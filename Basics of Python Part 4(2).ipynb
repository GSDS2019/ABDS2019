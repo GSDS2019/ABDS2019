{
 "cells": [
  {
   "cell_type": "markdown",
   "metadata": {},
   "source": [
    "# Numpy\n",
    "NumPy is an open source library available in Python that aids in mathematical, scientific, engineering, and data science programming. NumPy is an incredible library to perform mathematical and statistical operations. It works perfectly well for multi-dimensional arrays and matrices multiplication.\n"
   ]
  },
  {
   "cell_type": "markdown",
   "metadata": {},
   "source": [
    "NumPy is a programming language that deals with multi-dimensional arrays and matrices. On top of the arrays and matrices, NumPy supports a large number of mathematical operations. In this part, we will review the essential functions that you need to know for the tutorial on 'Numpy.'\n"
   ]
  },
  {
   "cell_type": "markdown",
   "metadata": {},
   "source": [
    "The library’s name is actually short for \"Numeric Python\" or \"Numerical Python\"."
   ]
  },
  {
   "cell_type": "markdown",
   "metadata": {},
   "source": [
    "# Why NumPy ?\n",
    "NumPy is memory efficiency, meaning it can handle the vast amount of data more accessible than any other library. Besides, NumPy is very convenient to work with, especially for matrix multiplication and reshaping. On top of that, NumPy is fast. In fact, Scikit learn(ML library) to use NumPy array to compute the matrix multiplication in the back end."
   ]
  },
  {
   "cell_type": "markdown",
   "metadata": {},
   "source": [
    "#### Import NumPy\n",
    "Before start using numpy in your code, you have to import it"
   ]
  },
  {
   "cell_type": "code",
   "execution_count": 4,
   "metadata": {
    "collapsed": true
   },
   "outputs": [],
   "source": [
    "import numpy as np"
   ]
  },
  {
   "cell_type": "markdown",
   "metadata": {},
   "source": [
    "Most commonly, numpy is imported with the alias 'np'."
   ]
  },
  {
   "cell_type": "markdown",
   "metadata": {},
   "source": [
    "# Numpy Array\n",
    "NumPy arrays are a bit like Python lists, but still very much different at the same time. As the name kind of gives away, a NumPy array is a central data structure of the numpy library."
   ]
  },
  {
   "cell_type": "markdown",
   "metadata": {},
   "source": [
    "#### Create a NumPy Array\n",
    "Simplest way to create an array in Numpy is to use Python List\n"
   ]
  },
  {
   "cell_type": "code",
   "execution_count": 6,
   "metadata": {
    "collapsed": true
   },
   "outputs": [],
   "source": [
    "myPythonList = [1,9,8,3]"
   ]
  },
  {
   "cell_type": "markdown",
   "metadata": {},
   "source": [
    "To convert python list to a numpy array by using the object <b> np.array </b>."
   ]
  },
  {
   "cell_type": "code",
   "execution_count": 7,
   "metadata": {},
   "outputs": [],
   "source": [
    "numpy_array_from_list = np.array(myPythonList)"
   ]
  },
  {
   "cell_type": "markdown",
   "metadata": {},
   "source": [
    "To display the contents of the list"
   ]
  },
  {
   "cell_type": "code",
   "execution_count": 8,
   "metadata": {},
   "outputs": [
    {
     "name": "stdout",
     "output_type": "stream",
     "text": [
      "[1 9 8 3]\n"
     ]
    }
   ],
   "source": [
    "print(numpy_array_from_list)"
   ]
  },
  {
   "cell_type": "code",
   "execution_count": 9,
   "metadata": {},
   "outputs": [
    {
     "name": "stdout",
     "output_type": "stream",
     "text": [
      "<class 'numpy.ndarray'>\n"
     ]
    }
   ],
   "source": [
    "print(type(numpy_array_from_list))"
   ]
  },
  {
   "cell_type": "markdown",
   "metadata": {},
   "source": [
    "As we can see 'numpy_array_from_list' is now a numpy array."
   ]
  },
  {
   "cell_type": "markdown",
   "metadata": {},
   "source": [
    "In practice, there is no need to declare a Python List. The operation can be combined."
   ]
  },
  {
   "cell_type": "code",
   "execution_count": 11,
   "metadata": {},
   "outputs": [
    {
     "name": "stdout",
     "output_type": "stream",
     "text": [
      "[1 9 8 3]\n"
     ]
    }
   ],
   "source": [
    "a  = np.array([1,9,8,3])\n",
    "print(a)"
   ]
  },
  {
   "cell_type": "markdown",
   "metadata": {},
   "source": [
    "#### Mathematical Operations on an Array\n",
    "You could perform mathematical operations like additions, subtraction, division and multiplication on an array. The syntax is the array name followed by the operation (+.-,*,/) followed by the operand"
   ]
  },
  {
   "cell_type": "code",
   "execution_count": 12,
   "metadata": {},
   "outputs": [
    {
     "name": "stdout",
     "output_type": "stream",
     "text": [
      "[11 19 18 13]\n"
     ]
    }
   ],
   "source": [
    "print(numpy_array_from_list + 10)"
   ]
  },
  {
   "cell_type": "markdown",
   "metadata": {},
   "source": [
    "This operation adds 10 to each element of the numpy array."
   ]
  },
  {
   "cell_type": "markdown",
   "metadata": {},
   "source": [
    "#### Shape of Array\n",
    "You can check the shape of the array with the object shape preceded by the name of the array. In the same way, you can check the type with dtypes."
   ]
  },
  {
   "cell_type": "code",
   "execution_count": 13,
   "metadata": {},
   "outputs": [
    {
     "name": "stdout",
     "output_type": "stream",
     "text": [
      "(3,)\n",
      "int32\n"
     ]
    }
   ],
   "source": [
    "import numpy as np\n",
    "a  = np.array([1,2,3])\n",
    "print(a.shape)\n",
    "print(a.dtype)"
   ]
  },
  {
   "cell_type": "markdown",
   "metadata": {},
   "source": [
    "An integer is a value without decimal. If you create an array with decimal, then the type will change to float."
   ]
  },
  {
   "cell_type": "code",
   "execution_count": 14,
   "metadata": {},
   "outputs": [
    {
     "name": "stdout",
     "output_type": "stream",
     "text": [
      "float64\n"
     ]
    }
   ],
   "source": [
    "#### Different type\n",
    "b  = np.array([1.1,2.0,3.2])\n",
    "print(b.dtype)"
   ]
  },
  {
   "cell_type": "markdown",
   "metadata": {},
   "source": [
    "#### 2-Dimension Array\n",
    "You can add a dimension with a \",\"coma.\n",
    "Note that it has to be within the bracket [].\n"
   ]
  },
  {
   "cell_type": "code",
   "execution_count": 15,
   "metadata": {},
   "outputs": [
    {
     "name": "stdout",
     "output_type": "stream",
     "text": [
      "(2, 3)\n"
     ]
    }
   ],
   "source": [
    "### 2 dimension\n",
    "c = np.array([(1,2,3),(4,5,6)])\n",
    "print(c.shape)"
   ]
  },
  {
   "cell_type": "markdown",
   "metadata": {},
   "source": [
    "Similarly, higher dimensions arrays can also be created."
   ]
  },
  {
   "cell_type": "markdown",
   "metadata": {},
   "source": [
    "#### np.zeros and np.ones\n",
    "You can create a matrix full of zeroes or ones using np.zeros and np.one commands respectively. It can be used when you initialized the weights during the machine learning training and other statistic tasks."
   ]
  },
  {
   "cell_type": "code",
   "execution_count": 19,
   "metadata": {},
   "outputs": [
    {
     "name": "stdout",
     "output_type": "stream",
     "text": [
      "[[0. 0.]\n",
      " [0. 0.]]\n"
     ]
    }
   ],
   "source": [
    "print(np.zeros((2,2)))"
   ]
  },
  {
   "cell_type": "code",
   "execution_count": 20,
   "metadata": {},
   "outputs": [
    {
     "name": "stdout",
     "output_type": "stream",
     "text": [
      "[[[1. 1. 1.]\n",
      "  [1. 1. 1.]]]\n"
     ]
    }
   ],
   "source": [
    "import numpy as np\n",
    "print(np.ones((1,2,3)))"
   ]
  },
  {
   "cell_type": "markdown",
   "metadata": {},
   "source": [
    "#### Reshape Data\n",
    "In some occasions, you need to reshape the data from wide to long. You can use the reshape function for this.\n"
   ]
  },
  {
   "cell_type": "code",
   "execution_count": 22,
   "metadata": {},
   "outputs": [
    {
     "name": "stdout",
     "output_type": "stream",
     "text": [
      "[[1 2 3]\n",
      " [4 5 6]]\n"
     ]
    }
   ],
   "source": [
    "import numpy as np\n",
    "e  = np.array([(1,2,3), (4,5,6)])\n",
    "print(e)"
   ]
  },
  {
   "cell_type": "code",
   "execution_count": 24,
   "metadata": {},
   "outputs": [
    {
     "name": "stdout",
     "output_type": "stream",
     "text": [
      "[[1 2]\n",
      " [3 4]\n",
      " [5 6]]\n"
     ]
    }
   ],
   "source": [
    "print(e.reshape(3,2))"
   ]
  },
  {
   "cell_type": "markdown",
   "metadata": {},
   "source": [
    "#### Flatten Data\n",
    "When you need to deal with some advanced machine leaning algorithms like neural network, you need to flatten the array. You can use flatten().\n"
   ]
  },
  {
   "cell_type": "code",
   "execution_count": 25,
   "metadata": {},
   "outputs": [
    {
     "name": "stdout",
     "output_type": "stream",
     "text": [
      "[1 2 3 4 5 6]\n"
     ]
    }
   ],
   "source": [
    "print(e.flatten())"
   ]
  },
  {
   "cell_type": "markdown",
   "metadata": {},
   "source": [
    "#### Random Numbers Generation\n",
    "To generate random numbers for different distributions, we can use different random functions. "
   ]
  },
  {
   "cell_type": "code",
   "execution_count": 38,
   "metadata": {},
   "outputs": [
    {
     "name": "stdout",
     "output_type": "stream",
     "text": [
      "[-0.42961988 -1.92779115  0.55812445 -1.2276275   1.12331334  1.1420527\n",
      "  0.0739283  -0.79199639  1.35543983 -0.3454129 ]\n"
     ]
    }
   ],
   "source": [
    "## Generate random nmber from Gaussian distribution\n",
    "standard_array = np.random.normal(0, 1, 10)\n",
    "print(standard_array)"
   ]
  },
  {
   "cell_type": "markdown",
   "metadata": {},
   "source": [
    "If plotted the distribution will be similar to following plot :\n",
    "<img src = \"numpy_tut1.png\">"
   ]
  },
  {
   "cell_type": "code",
   "execution_count": 42,
   "metadata": {},
   "outputs": [
    {
     "name": "stdout",
     "output_type": "stream",
     "text": [
      "[5.39297383 5.32995191 6.62958538 4.63684064 4.85598547 5.19460427\n",
      " 4.77667286 5.05480573 5.47624144 4.58568941]\n"
     ]
    }
   ],
   "source": [
    "## Generate random nmber from normal distribution\n",
    "# first number denotes mean\n",
    "# second number denotes standard deviation\n",
    "# third number denotes size of the array\n",
    "normal_array = np.random.normal(5, 0.5, 10)\n",
    "print(normal_array)"
   ]
  },
  {
   "cell_type": "code",
   "execution_count": 43,
   "metadata": {},
   "outputs": [
    {
     "name": "stdout",
     "output_type": "stream",
     "text": [
      "[0.29985818 0.0153101  0.22345268 0.69973202 0.48216496 0.82479835\n",
      " 0.43843043 0.59733783 0.92008554 0.38713758]\n"
     ]
    }
   ],
   "source": [
    "## Generate random nmber from uniform distribution\n",
    "# first number denotes low\n",
    "# second number denotes high\n",
    "# third number denotes size of the array\n",
    "uniform_array = np.random.uniform(0,1,10)\n",
    "print(uniform_array)"
   ]
  },
  {
   "cell_type": "markdown",
   "metadata": {},
   "source": [
    "#### numpy.arange() \n",
    "Sometimes, you want to create values that are evenly spaced within a defined interval. For instance, you want to create values from 1 to 10; you can use numpy.arange() function"
   ]
  },
  {
   "cell_type": "code",
   "execution_count": 47,
   "metadata": {},
   "outputs": [
    {
     "name": "stdout",
     "output_type": "stream",
     "text": [
      "[ 1  2  3  4  5  6  7  8  9 10]\n"
     ]
    }
   ],
   "source": [
    "# first number denotes Start of interval\n",
    "# second number denotes End of interval\n",
    "# third number, if present, denotes spacing between values. Default step is 1\n",
    "print(np.arange(1, 11))"
   ]
  },
  {
   "cell_type": "markdown",
   "metadata": {},
   "source": [
    "If you want to change the step, you can add a third number in the parenthesis. It will change the step."
   ]
  },
  {
   "cell_type": "code",
   "execution_count": 48,
   "metadata": {},
   "outputs": [
    {
     "name": "stdout",
     "output_type": "stream",
     "text": [
      "[ 1  5  9 13]\n"
     ]
    }
   ],
   "source": [
    "print(np.arange(1, 14, 4))"
   ]
  },
  {
   "cell_type": "markdown",
   "metadata": {},
   "source": [
    "#### numpy.linspace()\n",
    "Linspace gives evenly spaced samples."
   ]
  },
  {
   "cell_type": "code",
   "execution_count": 49,
   "metadata": {},
   "outputs": [
    {
     "data": {
      "text/plain": [
       "array([1.        , 1.44444444, 1.88888889, 2.33333333, 2.77777778,\n",
       "       3.22222222, 3.66666667, 4.11111111, 4.55555556, 5.        ])"
      ]
     },
     "execution_count": 49,
     "metadata": {},
     "output_type": "execute_result"
    }
   ],
   "source": [
    "# Start: Starting value of the sequence\n",
    "# Stop: End value of the sequence\n",
    "# Num: Number of samples to generate. Default is 50\n",
    "# Endpoint: If True (default), stop is the last value. If False, stop value is not included.\n",
    "np.linspace(1.0, 5.0, num=10)\n"
   ]
  },
  {
   "cell_type": "markdown",
   "metadata": {},
   "source": [
    "#### Indexing and Slicing NumPy Arrays \n",
    "Slicing data is trivial with numpy. We will slice the matrice \"e\". Note that, in Python, you need to use the brackets to return the rows or columns"
   ]
  },
  {
   "cell_type": "code",
   "execution_count": 50,
   "metadata": {},
   "outputs": [
    {
     "name": "stdout",
     "output_type": "stream",
     "text": [
      "[[1 2 3]\n",
      " [4 5 6]]\n"
     ]
    }
   ],
   "source": [
    "import numpy as np\n",
    "e  = np.array([(1,2,3), (4,5,6)])\n",
    "print(e)"
   ]
  },
  {
   "cell_type": "code",
   "execution_count": 51,
   "metadata": {},
   "outputs": [
    {
     "name": "stdout",
     "output_type": "stream",
     "text": [
      "First row: [1 2 3]\n"
     ]
    }
   ],
   "source": [
    "## First column\n",
    "print('First row:', e[0])"
   ]
  },
  {
   "cell_type": "code",
   "execution_count": 52,
   "metadata": {},
   "outputs": [
    {
     "name": "stdout",
     "output_type": "stream",
     "text": [
      "Second row: [4 5 6]\n"
     ]
    }
   ],
   "source": [
    "## Second col\n",
    "print('Second row:', e[1])"
   ]
  },
  {
   "cell_type": "markdown",
   "metadata": {},
   "source": [
    "The values before the comma stand for the rows. The value on the rights stands for the columns.\n",
    "If you want to select a column, you need to add : before the column index.\n",
    ": means you want all the rows from the selected column."
   ]
  },
  {
   "cell_type": "code",
   "execution_count": 53,
   "metadata": {},
   "outputs": [
    {
     "name": "stdout",
     "output_type": "stream",
     "text": [
      "Second column: [2 5]\n"
     ]
    }
   ],
   "source": [
    "print('Second column:', e[:,1])"
   ]
  },
  {
   "cell_type": "markdown",
   "metadata": {},
   "source": [
    "To return the first two values of the second row. You use : to select all columns up to the second"
   ]
  },
  {
   "cell_type": "code",
   "execution_count": 54,
   "metadata": {},
   "outputs": [
    {
     "name": "stdout",
     "output_type": "stream",
     "text": [
      "[4 5]\n"
     ]
    }
   ],
   "source": [
    "## Second Row, two values\n",
    "print(e[1, :2])"
   ]
  },
  {
   "cell_type": "markdown",
   "metadata": {},
   "source": [
    "#### NumPy Statistical Functions \n",
    "NumPy has quite a few useful statistical functions for finding minimum, maximum, percentile standard deviation and variance, etc from the given elements in the array.\n"
   ]
  },
  {
   "cell_type": "code",
   "execution_count": 55,
   "metadata": {},
   "outputs": [
    {
     "name": "stdout",
     "output_type": "stream",
     "text": [
      "[5.15365594 4.61426302 4.42788193 6.16715473 4.27644805 4.42518478\n",
      " 5.45294927 4.55114002 5.33408259 4.32080543]\n",
      "4.276448045180074\n",
      "6.167154725567189\n",
      "4.872356574230242\n",
      "4.582701516789127\n",
      "0.5943516378347707\n"
     ]
    }
   ],
   "source": [
    "normal_array = np.random.normal(5, 0.5, 10)\n",
    "print(normal_array)\n",
    "\n",
    "### Min \n",
    "print(np.min(normal_array))\n",
    "\n",
    "### Max \n",
    "print(np.max(normal_array))\n",
    "\n",
    "### Mean \n",
    "print(np.mean(normal_array))\n",
    "\n",
    "### Median\n",
    "print(np.median(normal_array))\n",
    "\n",
    "### Sd\n",
    "print(np.std(normal_array))\n"
   ]
  },
  {
   "cell_type": "markdown",
   "metadata": {},
   "source": [
    "# Pandas\n",
    "Pandas is a popular Python package for data science, and with good reason: it offers powerful, expressive and flexible data structures that make data manipulation and analysis easy, among many other things. \n",
    "\n",
    "Pandas deals with the following data structures −\n",
    "\n",
    "* Series\n",
    "* DataFrame\n",
    "\n"
   ]
  },
  {
   "cell_type": "markdown",
   "metadata": {},
   "source": [
    "#### Series\n",
    "Series is a one-dimensional array like structure with homogeneous data. For example, the following series is a collection of integers 10, 23, 56, …"
   ]
  },
  {
   "cell_type": "code",
   "execution_count": 73,
   "metadata": {},
   "outputs": [
    {
     "name": "stdout",
     "output_type": "stream",
     "text": [
      "0    10\n",
      "1    23\n",
      "2    56\n",
      "3    78\n",
      "dtype: int64\n"
     ]
    }
   ],
   "source": [
    "my_series = pd.Series([10,23,56,78])\n",
    "print(my_series)"
   ]
  },
  {
   "cell_type": "code",
   "execution_count": 74,
   "metadata": {},
   "outputs": [
    {
     "name": "stdout",
     "output_type": "stream",
     "text": [
      "<class 'pandas.core.series.Series'>\n"
     ]
    }
   ],
   "source": [
    "print(type(my_series))"
   ]
  },
  {
   "cell_type": "markdown",
   "metadata": {},
   "source": [
    "It can have any data structure like integer, float, and string. It is useful when you want to perform computation or return a one-dimensional array. A series, by definition, cannot have multiple columns."
   ]
  },
  {
   "cell_type": "markdown",
   "metadata": {},
   "source": [
    "You can add the index with index. It helps to name the rows. The length should be equal to the size of the column."
   ]
  },
  {
   "cell_type": "code",
   "execution_count": 79,
   "metadata": {},
   "outputs": [
    {
     "name": "stdout",
     "output_type": "stream",
     "text": [
      "a    1.0\n",
      "b    2.0\n",
      "c    3.0\n",
      "dtype: float64\n"
     ]
    }
   ],
   "source": [
    "my_series = pd.Series([1., 2., 3.], index=['a', 'b', 'c'])\n",
    "print(my_series)"
   ]
  },
  {
   "cell_type": "markdown",
   "metadata": {},
   "source": [
    "### Pandas Data Frames\n",
    "\n",
    "They are defined as two-dimensional labeled data structures with columns of potentially different types.\n",
    "\n",
    "The Pandas DataFrame consists of three main components: the data, the index, and the columns.\n",
    "\n",
    "The Pandas library is usually imported under the alias pd.\n"
   ]
  },
  {
   "cell_type": "code",
   "execution_count": 56,
   "metadata": {
    "collapsed": true
   },
   "outputs": [],
   "source": [
    "import pandas as pd"
   ]
  },
  {
   "cell_type": "markdown",
   "metadata": {},
   "source": [
    "#### Create Data frame\n",
    "You can convert a numpy array to a pandas data frame with pd.DataFrame(). The opposite is also possible. To convert a pandas Data Frame to an array, you can use np.array()\n"
   ]
  },
  {
   "cell_type": "code",
   "execution_count": 80,
   "metadata": {},
   "outputs": [
    {
     "name": "stdout",
     "output_type": "stream",
     "text": [
      "Data Frame:    0  1\n",
      "0  1  2\n",
      "1  3  4\n"
     ]
    }
   ],
   "source": [
    "## Numpy to pandas\n",
    "h = [[1,2],[3,4]] \n",
    "df_h = pd.DataFrame(h)\n",
    "print('Data Frame:', df_h)"
   ]
  },
  {
   "cell_type": "code",
   "execution_count": 81,
   "metadata": {},
   "outputs": [
    {
     "name": "stdout",
     "output_type": "stream",
     "text": [
      "Numpy array: [[1 2]\n",
      " [3 4]]\n"
     ]
    }
   ],
   "source": [
    "## Pandas to numpy\n",
    "df_h_n = np.array(df_h)\n",
    "print('Numpy array:', df_h_n)"
   ]
  },
  {
   "cell_type": "markdown",
   "metadata": {},
   "source": [
    "You can also use a dictionary to create a Pandas dataframe."
   ]
  },
  {
   "cell_type": "code",
   "execution_count": 82,
   "metadata": {},
   "outputs": [
    {
     "data": {
      "text/html": [
       "<div>\n",
       "<style scoped>\n",
       "    .dataframe tbody tr th:only-of-type {\n",
       "        vertical-align: middle;\n",
       "    }\n",
       "\n",
       "    .dataframe tbody tr th {\n",
       "        vertical-align: top;\n",
       "    }\n",
       "\n",
       "    .dataframe thead th {\n",
       "        text-align: right;\n",
       "    }\n",
       "</style>\n",
       "<table border=\"1\" class=\"dataframe\">\n",
       "  <thead>\n",
       "    <tr style=\"text-align: right;\">\n",
       "      <th></th>\n",
       "      <th>Name</th>\n",
       "      <th>Age</th>\n",
       "    </tr>\n",
       "  </thead>\n",
       "  <tbody>\n",
       "    <tr>\n",
       "      <th>0</th>\n",
       "      <td>John</td>\n",
       "      <td>30</td>\n",
       "    </tr>\n",
       "    <tr>\n",
       "      <th>1</th>\n",
       "      <td>Smith</td>\n",
       "      <td>40</td>\n",
       "    </tr>\n",
       "  </tbody>\n",
       "</table>\n",
       "</div>"
      ],
      "text/plain": [
       "    Name  Age\n",
       "0   John   30\n",
       "1  Smith   40"
      ]
     },
     "execution_count": 82,
     "metadata": {},
     "output_type": "execute_result"
    }
   ],
   "source": [
    "dic = {'Name': [\"John\", \"Smith\"], 'Age': [30, 40]}\n",
    "pd.DataFrame(data=dic)"
   ]
  },
  {
   "cell_type": "markdown",
   "metadata": {},
   "source": [
    "### Importing Data with read_csv()\n",
    "The first step to any data science project is to import your data. Often, you'll work with data in Comma Separated Value (CSV) files and run into problems at the very start of your workflow. \n",
    "\n"
   ]
  },
  {
   "cell_type": "markdown",
   "metadata": {},
   "source": [
    "Before you can use pandas to import your data, you need to know where your data is in your filesystem and what your current working directory is."
   ]
  },
  {
   "cell_type": "markdown",
   "metadata": {},
   "source": [
    "# OS library\n",
    "Python allows the developer to use several OS-dependent functionalities with the Python module <b>os</b>. This package abstracts the functionalities of the platform and provides the python functions to navigate, create, delete and modify files and folders.\n"
   ]
  },
  {
   "cell_type": "code",
   "execution_count": 57,
   "metadata": {
    "collapsed": true
   },
   "outputs": [],
   "source": [
    "import os"
   ]
  },
  {
   "cell_type": "markdown",
   "metadata": {},
   "source": [
    "#### getcwd()\n",
    "Now, using the getcwd method, we can retrieve the path of the current working directory."
   ]
  },
  {
   "cell_type": "code",
   "execution_count": 58,
   "metadata": {},
   "outputs": [
    {
     "name": "stdout",
     "output_type": "stream",
     "text": [
      "C:\\Users\\ab275\\Downloads\\edureka_freelance\\gaurav ipynb\\python1\n"
     ]
    }
   ],
   "source": [
    "print(os.getcwd())"
   ]
  },
  {
   "cell_type": "markdown",
   "metadata": {},
   "source": [
    "Let's list the folders/files in the current directory using listdir:"
   ]
  },
  {
   "cell_type": "code",
   "execution_count": 59,
   "metadata": {},
   "outputs": [
    {
     "name": "stdout",
     "output_type": "stream",
     "text": [
      "['.ipynb_checkpoints', '01_initial_notebook_screen.cb2ea87d9679.png', 'Basics of Python Part 1.ipynb', 'Basics of Python Part 2.ipynb', 'Basics of Python Part 3.ipynb', 'Basics of Python Part 4.ipynb', 'calculation.py', 'continue-statement-flowchart.jpg', 'flowchart-break-statement.jpg', 'forLoop.jpg', 'hello.png', 'numpy_tut1.png', 'osx-install-destination.png', 'osx-install-success.png', 'osx-install-type.png', 'reduce_diagram.png', 'test.txt', 'whileLoopFlowchart.jpg', 'win-install-complete.png']\n"
     ]
    }
   ],
   "source": [
    "print(os.listdir())"
   ]
  },
  {
   "cell_type": "markdown",
   "metadata": {},
   "source": [
    "Let's change the working directory and enter into the directory of data."
   ]
  },
  {
   "cell_type": "code",
   "execution_count": 61,
   "metadata": {},
   "outputs": [],
   "source": [
    "os.chdir('Data/')"
   ]
  },
  {
   "cell_type": "markdown",
   "metadata": {},
   "source": [
    "#### Loading your data\n",
    "Now that you know what your current working directory is and where the dataset is in your filesystem, you can specify the file path to it. You're now ready to import the CSV file into Python using read_csv() from pandas:\n"
   ]
  },
  {
   "cell_type": "code",
   "execution_count": 83,
   "metadata": {},
   "outputs": [],
   "source": [
    "credit_data = pd.read_csv(\"Credit_Pay.csv\")"
   ]
  },
  {
   "cell_type": "markdown",
   "metadata": {},
   "source": [
    "In the code above, the file path is the main argument to read_csv() and it was specified as the relative file path. The read_csv() function is smart enough to decipher whether it's working with full or relative file paths and convert your flat file as a DataFrame without a problem."
   ]
  },
  {
   "cell_type": "markdown",
   "metadata": {},
   "source": [
    "# Inspecting data\n",
    "\n",
    "* Load the data\n",
    "* Using head function - to print first few rows of the dataframe\n",
    "* Using tail function - to print last few rows of the dataframe\n",
    "* Using describe function - to get the counts, mean, std, min, max and percentile of the dataframe\n",
    "* Using info function - to see the datatypes of the columns of the dataframe"
   ]
  },
  {
   "cell_type": "markdown",
   "metadata": {},
   "source": [
    "Data has been load already using read.csv() in the object \"credit_data\""
   ]
  },
  {
   "cell_type": "code",
   "execution_count": 85,
   "metadata": {},
   "outputs": [
    {
     "name": "stdout",
     "output_type": "stream",
     "text": [
      "   ID  LIMIT_BAL     SEX      EDUCATION MARRIAGE  AGE  REPAYMENT_JUL  \\\n",
      "0   1    20000.0  Female  Post Graduate  Married   24              2   \n",
      "1   2   120000.0  Female  Post Graduate   Single   26             -1   \n",
      "2   3    90000.0  Female  Post Graduate   Single   34              0   \n",
      "3   4    50000.0  Female  Post Graduate  Married   37              0   \n",
      "4   5    50000.0    Male  Post Graduate  Married   57             -1   \n",
      "\n",
      "   REPAYMENT_JUN  REPAYMENT_MAY  REPAYMENT_APR  ...  BILL_AMT_MAY  \\\n",
      "0              2             -1             -1  ...         689.0   \n",
      "1              2              0              0  ...        2682.0   \n",
      "2              0              0              0  ...       13559.0   \n",
      "3              0              0              0  ...       49291.0   \n",
      "4              0             -1              0  ...       35835.0   \n",
      "\n",
      "   BILL_AMT_APR  BILL_AMT_MAR  BILL_AMT_FEB  PAY_AMT_JUL  PAY_AMT_JUN  \\\n",
      "0           0.0           0.0           0.0          0.0        689.0   \n",
      "1        3272.0        3455.0        3261.0          0.0       1000.0   \n",
      "2       14331.0       14948.0       15549.0       1518.0       1500.0   \n",
      "3       28314.0       28959.0       29547.0       2000.0       2019.0   \n",
      "4       20940.0       19146.0       19131.0       2000.0      36681.0   \n",
      "\n",
      "   PAY_AMT_MAY  PAY_AMT_APR  PAY_AMT_MAR  PAY_AMT_FEB  \n",
      "0          0.0          0.0          0.0          0.0  \n",
      "1       1000.0       1000.0          0.0       2000.0  \n",
      "2       1000.0       1000.0       1000.0       5000.0  \n",
      "3       1200.0       1100.0       1069.0       1000.0  \n",
      "4      10000.0       9000.0        689.0        679.0  \n",
      "\n",
      "[5 rows x 24 columns]\n"
     ]
    }
   ],
   "source": [
    "print(credit_data.head())"
   ]
  },
  {
   "cell_type": "code",
   "execution_count": 86,
   "metadata": {},
   "outputs": [
    {
     "name": "stdout",
     "output_type": "stream",
     "text": [
      "          ID  LIMIT_BAL   SEX      EDUCATION MARRIAGE  AGE  REPAYMENT_JUL  \\\n",
      "29995  29996   220000.0  Male    High School  Married   39              0   \n",
      "29996  29997   150000.0  Male    High School   Single   43             -1   \n",
      "29997  29998    30000.0  Male  Post Graduate   Single   37              4   \n",
      "29998  29999    80000.0  Male    High School  Married   41              1   \n",
      "29999  30000    50000.0  Male  Post Graduate  Married   46              0   \n",
      "\n",
      "       REPAYMENT_JUN  REPAYMENT_MAY  REPAYMENT_APR  ...  BILL_AMT_MAY  \\\n",
      "29995              0              0              0  ...      208365.0   \n",
      "29996             -1             -1             -1  ...        3502.0   \n",
      "29997              3              2             -1  ...        2758.0   \n",
      "29998             -1              0              0  ...       76304.0   \n",
      "29999              0              0              0  ...       49764.0   \n",
      "\n",
      "       BILL_AMT_APR  BILL_AMT_MAR  BILL_AMT_FEB  PAY_AMT_JUL  PAY_AMT_JUN  \\\n",
      "29995       88004.0       31237.0       15980.0       8500.0      20000.0   \n",
      "29996        8979.0        5190.0           0.0       1837.0       3526.0   \n",
      "29997       20878.0       20582.0       19357.0          0.0          0.0   \n",
      "29998       52774.0       11855.0       48944.0      85900.0       3409.0   \n",
      "29999       36535.0       32428.0       15313.0       2078.0       1800.0   \n",
      "\n",
      "       PAY_AMT_MAY  PAY_AMT_APR  PAY_AMT_MAR  PAY_AMT_FEB  \n",
      "29995       5003.0       3047.0       5000.0       1000.0  \n",
      "29996       8998.0        129.0          0.0          0.0  \n",
      "29997      22000.0       4200.0       2000.0       3100.0  \n",
      "29998       1178.0       1926.0      52964.0       1804.0  \n",
      "29999       1430.0       1000.0       1000.0       1000.0  \n",
      "\n",
      "[5 rows x 24 columns]\n"
     ]
    }
   ],
   "source": [
    "print(credit_data.tail())"
   ]
  },
  {
   "cell_type": "code",
   "execution_count": 87,
   "metadata": {},
   "outputs": [
    {
     "name": "stdout",
     "output_type": "stream",
     "text": [
      "                 ID       LIMIT_BAL           AGE  REPAYMENT_JUL  \\\n",
      "count  30000.000000    30000.000000  30000.000000   30000.000000   \n",
      "mean   15000.500000   167484.322667     35.485500      -0.016700   \n",
      "std     8660.398374   129747.661567      9.217904       1.123802   \n",
      "min        1.000000    10000.000000     21.000000      -2.000000   \n",
      "25%     7500.750000    50000.000000     28.000000      -1.000000   \n",
      "50%    15000.500000   140000.000000     34.000000       0.000000   \n",
      "75%    22500.250000   240000.000000     41.000000       0.000000   \n",
      "max    30000.000000  1000000.000000     79.000000       8.000000   \n",
      "\n",
      "       REPAYMENT_JUN  REPAYMENT_MAY  REPAYMENT_APR  REPAYMENT_MAR  \\\n",
      "count   30000.000000   30000.000000   30000.000000   30000.000000   \n",
      "mean       -0.133767      -0.166200      -0.220667      -0.266200   \n",
      "std         1.197186       1.196868       1.169139       1.133187   \n",
      "min        -2.000000      -2.000000      -2.000000      -2.000000   \n",
      "25%        -1.000000      -1.000000      -1.000000      -1.000000   \n",
      "50%         0.000000       0.000000       0.000000       0.000000   \n",
      "75%         0.000000       0.000000       0.000000       0.000000   \n",
      "max         8.000000       8.000000       8.000000       8.000000   \n",
      "\n",
      "       REPAYMENT_FEB   BILL_AMT_JUL  ...  BILL_AMT_MAY   BILL_AMT_APR  \\\n",
      "count   30000.000000   30000.000000  ...  3.000000e+04   30000.000000   \n",
      "mean       -0.291100   51223.330900  ...  4.701315e+04   43262.948967   \n",
      "std         1.149988   73635.860576  ...  6.934939e+04   64332.856134   \n",
      "min        -2.000000 -165580.000000  ... -1.572640e+05 -170000.000000   \n",
      "25%        -1.000000    3558.750000  ...  2.666250e+03    2326.750000   \n",
      "50%         0.000000   22381.500000  ...  2.008850e+04   19052.000000   \n",
      "75%         0.000000   67091.000000  ...  6.016475e+04   54506.000000   \n",
      "max         8.000000  964511.000000  ...  1.664089e+06  891586.000000   \n",
      "\n",
      "        BILL_AMT_MAR   BILL_AMT_FEB    PAY_AMT_JUL   PAY_AMT_JUN  \\\n",
      "count   30000.000000   30000.000000   30000.000000  3.000000e+04   \n",
      "mean    40311.400967   38871.760400    5663.580500  5.921163e+03   \n",
      "std     60797.155770   59554.107537   16563.280354  2.304087e+04   \n",
      "min    -81334.000000 -339603.000000       0.000000  0.000000e+00   \n",
      "25%      1763.000000    1256.000000    1000.000000  8.330000e+02   \n",
      "50%     18104.500000   17071.000000    2100.000000  2.009000e+03   \n",
      "75%     50190.500000   49198.250000    5006.000000  5.000000e+03   \n",
      "max    927171.000000  961664.000000  873552.000000  1.684259e+06   \n",
      "\n",
      "        PAY_AMT_MAY    PAY_AMT_APR    PAY_AMT_MAR    PAY_AMT_FEB  \n",
      "count   30000.00000   30000.000000   30000.000000   30000.000000  \n",
      "mean     5225.68150    4826.076867    4799.387633    5215.502567  \n",
      "std     17606.96147   15666.159744   15278.305679   17777.465775  \n",
      "min         0.00000       0.000000       0.000000       0.000000  \n",
      "25%       390.00000     296.000000     252.500000     117.750000  \n",
      "50%      1800.00000    1500.000000    1500.000000    1500.000000  \n",
      "75%      4505.00000    4013.250000    4031.500000    4000.000000  \n",
      "max    896040.00000  621000.000000  426529.000000  528666.000000  \n",
      "\n",
      "[8 rows x 21 columns]\n"
     ]
    }
   ],
   "source": [
    "print(credit_data.describe())"
   ]
  },
  {
   "cell_type": "code",
   "execution_count": 88,
   "metadata": {},
   "outputs": [
    {
     "name": "stdout",
     "output_type": "stream",
     "text": [
      "<class 'pandas.core.frame.DataFrame'>\n",
      "RangeIndex: 30000 entries, 0 to 29999\n",
      "Data columns (total 24 columns):\n",
      "ID               30000 non-null int64\n",
      "LIMIT_BAL        30000 non-null float64\n",
      "SEX              30000 non-null object\n",
      "EDUCATION        30000 non-null object\n",
      "MARRIAGE         30000 non-null object\n",
      "AGE              30000 non-null int64\n",
      "REPAYMENT_JUL    30000 non-null int64\n",
      "REPAYMENT_JUN    30000 non-null int64\n",
      "REPAYMENT_MAY    30000 non-null int64\n",
      "REPAYMENT_APR    30000 non-null int64\n",
      "REPAYMENT_MAR    30000 non-null int64\n",
      "REPAYMENT_FEB    30000 non-null int64\n",
      "BILL_AMT_JUL     30000 non-null float64\n",
      "BILL_AMT_JUN     30000 non-null float64\n",
      "BILL_AMT_MAY     30000 non-null float64\n",
      "BILL_AMT_APR     30000 non-null float64\n",
      "BILL_AMT_MAR     30000 non-null float64\n",
      "BILL_AMT_FEB     30000 non-null float64\n",
      "PAY_AMT_JUL      30000 non-null float64\n",
      "PAY_AMT_JUN      30000 non-null float64\n",
      "PAY_AMT_MAY      30000 non-null float64\n",
      "PAY_AMT_APR      30000 non-null float64\n",
      "PAY_AMT_MAR      30000 non-null float64\n",
      "PAY_AMT_FEB      30000 non-null float64\n",
      "dtypes: float64(13), int64(8), object(3)\n",
      "memory usage: 5.5+ MB\n",
      "None\n"
     ]
    }
   ],
   "source": [
    "print(credit_data.info())"
   ]
  },
  {
   "cell_type": "code",
   "execution_count": 90,
   "metadata": {},
   "outputs": [
    {
     "name": "stdout",
     "output_type": "stream",
     "text": [
      "ID               0\n",
      "LIMIT_BAL        0\n",
      "SEX              0\n",
      "EDUCATION        0\n",
      "MARRIAGE         0\n",
      "AGE              0\n",
      "REPAYMENT_JUL    0\n",
      "REPAYMENT_JUN    0\n",
      "REPAYMENT_MAY    0\n",
      "REPAYMENT_APR    0\n",
      "REPAYMENT_MAR    0\n",
      "REPAYMENT_FEB    0\n",
      "BILL_AMT_JUL     0\n",
      "BILL_AMT_JUN     0\n",
      "BILL_AMT_MAY     0\n",
      "BILL_AMT_APR     0\n",
      "BILL_AMT_MAR     0\n",
      "BILL_AMT_FEB     0\n",
      "PAY_AMT_JUL      0\n",
      "PAY_AMT_JUN      0\n",
      "PAY_AMT_MAY      0\n",
      "PAY_AMT_APR      0\n",
      "PAY_AMT_MAR      0\n",
      "PAY_AMT_FEB      0\n",
      "dtype: int64\n"
     ]
    }
   ],
   "source": [
    "# To see if any column has NaN or Null values\n",
    "print(credit_data.isnull().sum())"
   ]
  },
  {
   "cell_type": "markdown",
   "metadata": {},
   "source": [
    "WooHoo! Our data is completely free of NaNs and Null values."
   ]
  },
  {
   "cell_type": "markdown",
   "metadata": {},
   "source": [
    "#### Slice data\n",
    "You can use the column name to extract data in a particular column."
   ]
  },
  {
   "cell_type": "code",
   "execution_count": 91,
   "metadata": {},
   "outputs": [
    {
     "data": {
      "text/plain": [
       "0        Post Graduate\n",
       "1        Post Graduate\n",
       "2        Post Graduate\n",
       "3        Post Graduate\n",
       "4        Post Graduate\n",
       "             ...      \n",
       "29995      High School\n",
       "29996      High School\n",
       "29997    Post Graduate\n",
       "29998      High School\n",
       "29999    Post Graduate\n",
       "Name: EDUCATION, Length: 30000, dtype: object"
      ]
     },
     "execution_count": 91,
     "metadata": {},
     "output_type": "execute_result"
    }
   ],
   "source": [
    "### Using name\n",
    "credit_data['EDUCATION']"
   ]
  },
  {
   "cell_type": "markdown",
   "metadata": {},
   "source": [
    "To select multiple columns, you need to use two times the bracket, [[..,..]]\n",
    "\n",
    "The first pair of bracket means you want to select columns, the second pairs of bracket tells what columns you want to return."
   ]
  },
  {
   "cell_type": "code",
   "execution_count": 92,
   "metadata": {},
   "outputs": [
    {
     "name": "stdout",
     "output_type": "stream",
     "text": [
      "           EDUCATION MARRIAGE\n",
      "0      Post Graduate  Married\n",
      "1      Post Graduate   Single\n",
      "2      Post Graduate   Single\n",
      "3      Post Graduate  Married\n",
      "4      Post Graduate  Married\n",
      "...              ...      ...\n",
      "29995    High School  Married\n",
      "29996    High School   Single\n",
      "29997  Post Graduate   Single\n",
      "29998    High School  Married\n",
      "29999  Post Graduate  Married\n",
      "\n",
      "[30000 rows x 2 columns]\n"
     ]
    }
   ],
   "source": [
    "print(credit_data[['EDUCATION','MARRIAGE']])"
   ]
  },
  {
   "cell_type": "markdown",
   "metadata": {},
   "source": [
    "The code below returns the first three rows."
   ]
  },
  {
   "cell_type": "markdown",
   "metadata": {},
   "source": []
  },
  {
   "cell_type": "markdown",
   "metadata": {},
   "source": []
  },
  {
   "cell_type": "markdown",
   "metadata": {},
   "source": []
  },
  {
   "cell_type": "markdown",
   "metadata": {},
   "source": []
  },
  {
   "cell_type": "markdown",
   "metadata": {},
   "source": []
  },
  {
   "cell_type": "markdown",
   "metadata": {},
   "source": []
  },
  {
   "cell_type": "markdown",
   "metadata": {},
   "source": []
  },
  {
   "cell_type": "markdown",
   "metadata": {},
   "source": []
  },
  {
   "cell_type": "markdown",
   "metadata": {},
   "source": []
  },
  {
   "cell_type": "markdown",
   "metadata": {},
   "source": []
  },
  {
   "cell_type": "markdown",
   "metadata": {},
   "source": []
  },
  {
   "cell_type": "markdown",
   "metadata": {},
   "source": []
  },
  {
   "cell_type": "markdown",
   "metadata": {},
   "source": []
  },
  {
   "cell_type": "markdown",
   "metadata": {},
   "source": []
  },
  {
   "cell_type": "markdown",
   "metadata": {},
   "source": []
  },
  {
   "cell_type": "markdown",
   "metadata": {},
   "source": []
  },
  {
   "cell_type": "markdown",
   "metadata": {},
   "source": []
  },
  {
   "cell_type": "markdown",
   "metadata": {},
   "source": []
  },
  {
   "cell_type": "markdown",
   "metadata": {},
   "source": []
  },
  {
   "cell_type": "markdown",
   "metadata": {},
   "source": []
  },
  {
   "cell_type": "markdown",
   "metadata": {},
   "source": []
  },
  {
   "cell_type": "markdown",
   "metadata": {},
   "source": []
  },
  {
   "cell_type": "markdown",
   "metadata": {},
   "source": []
  },
  {
   "cell_type": "markdown",
   "metadata": {},
   "source": []
  },
  {
   "cell_type": "markdown",
   "metadata": {},
   "source": []
  },
  {
   "cell_type": "markdown",
   "metadata": {},
   "source": []
  },
  {
   "cell_type": "markdown",
   "metadata": {},
   "source": []
  },
  {
   "cell_type": "markdown",
   "metadata": {},
   "source": []
  },
  {
   "cell_type": "markdown",
   "metadata": {},
   "source": []
  },
  {
   "cell_type": "markdown",
   "metadata": {},
   "source": []
  },
  {
   "cell_type": "markdown",
   "metadata": {},
   "source": []
  }
 ],
 "metadata": {
  "kernelspec": {
   "display_name": "Python 3",
   "language": "python",
   "name": "python3"
  },
  "language_info": {
   "codemirror_mode": {
    "name": "ipython",
    "version": 3
   },
   "file_extension": ".py",
   "mimetype": "text/x-python",
   "name": "python",
   "nbconvert_exporter": "python",
   "pygments_lexer": "ipython3",
   "version": "3.6.1"
  }
 },
 "nbformat": 4,
 "nbformat_minor": 2
}
