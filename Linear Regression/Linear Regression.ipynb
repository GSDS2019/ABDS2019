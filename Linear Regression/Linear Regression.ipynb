{
 "cells": [
  {
   "cell_type": "markdown",
   "metadata": {},
   "source": [
    "# Regression analysis\n",
    "Regression models are used to predict target variables on a continuous scale, which makes them attractive for addressing many questions in science as well as applications in industry, such as understanding relationships between variables, evaluating trends, or making forecasts. One example would be predicting the sales of a company in future months.\n"
   ]
  },
  {
   "cell_type": "markdown",
   "metadata": {},
   "source": [
    "Regression analysis is a set of statistical methods used for the estimation of relationships between a dependent variable and one or more independent variables. It can be utilized to assess the strength of the relationship between variables and for modeling the future relationship between them.\n",
    "\n",
    "Regression analysis is an important tool for modelling and analyzing data. Here, we fit a curve / line to the data points, in such a manner that the differences between the distances of data points from the curve or line is minimized."
   ]
  },
  {
   "cell_type": "markdown",
   "metadata": {},
   "source": [
    "#### Benefits of using regression analysis:\n",
    "* It indicates the significant relationships between dependent variable and independent variable.\n",
    "* It indicates the strength of impact of multiple independent variables on a dependent variable."
   ]
  },
  {
   "cell_type": "markdown",
   "metadata": {},
   "source": [
    "Regression analysis also allows us to compare the effects of variables measured on different scales, such as the effect of price changes and the number of promotional activities. These benefits help market researchers / data analysts / data scientists to eliminate and evaluate the best set of variables to be used for building predictive models.\n"
   ]
  },
  {
   "cell_type": "markdown",
   "metadata": {},
   "source": [
    "One of the primary goals of any scientist is to find patterns in data and build models to describe, predict, and extract insight from those patterns. The most fundamental of these patterns is a linear relationship between two variables. \n"
   ]
  },
  {
   "cell_type": "markdown",
   "metadata": {},
   "source": [
    "# Simple linear regression\n",
    "Simple linear regression is a model that assesses the relationship between a dependent variable and one independent variable. The simple linear model is expressed using the following equation:\n",
    "\n",
    "Y = a + bX + ϵ\n",
    "\n",
    "\n",
    "Where:\n",
    "\n",
    "Y – dependent variable\n",
    "\n",
    "X – independent (explanatory) variable\n",
    "\n",
    "a – intercept\n",
    "\n",
    "b – slope\n",
    "\n",
    "ϵ – residual (error)"
   ]
  },
  {
   "cell_type": "markdown",
   "metadata": {},
   "source": [
    "Simple linear regression is useful for finding relationship between two continuous variables. One is predictor or independent variable and other is response or dependent variable. \n",
    "\n",
    "It looks for statistical relationship but not deterministic relationship. Relationship between two variables is said to be deterministic if one variable can be accurately expressed by the other. \n",
    "\n",
    "For example, using temperature in degree Celsius it is possible to accurately predict Fahrenheit. Statistical relationship is not accurate in determining relationship between two variables. For example, relationship between height and weight.\n",
    "\n",
    "The core idea is to obtain a line that best fits the data. The best fit line is the one for which total prediction error (all data points) are as small as possible.\n",
    "\n"
   ]
  },
  {
   "cell_type": "markdown",
   "metadata": {},
   "source": [
    "# Multiple linear regression\n",
    "Multiple linear regression analysis is essentially similar to the simple linear model, with the exception that multiple independent variables are used in the model. The mathematical representation of multiple linear regression is:\n",
    "\n",
    "Y = a + b$X_{1}$ + c$X_{2}$ + d$X_{3}$ + ϵ\n",
    "\n",
    "Where:\n",
    "\n",
    "Y – dependent variable\n",
    "\n",
    "$X_{1}$, $X_{2}$, $X_{3}$ – independent (explanatory) variables\n",
    "\n",
    "a – intercept\n",
    "\n",
    "b, c, d – slopes\n",
    "\n",
    "ϵ – residual (error)"
   ]
  },
  {
   "cell_type": "markdown",
   "metadata": {},
   "source": [
    "# Real-time example : \n",
    "We have a dataset which contains information about customers' quarterly balance, their demographic and Wallet transaction. \n",
    "\n",
    "Goal is to design a model that can predict Wallet transaction if given the customers' information. \n",
    "\n",
    "A linear regression line can be obtained from the given data which will give minimum error. This linear equation is then used for any new data. That is, if we give information of any customer as an input, our model should predict their Wallet transaction with minimum error."
   ]
  },
  {
   "cell_type": "markdown",
   "metadata": {},
   "source": [
    "Let's take a look at some data, ask some questions about that data, and then use linear regression to answer those questions!"
   ]
  },
  {
   "cell_type": "code",
   "execution_count": 90,
   "metadata": {},
   "outputs": [
    {
     "name": "stdout",
     "output_type": "stream",
     "text": [
      "         Qtr1_Bal  Qtr2_Bal  Qtr3_Bal  Qtr4_Bal  Perc_inc_q4_q1  Wallet_trx  \\\n",
      "Cust_id                                                                       \n",
      "C10803         14        33        40     50000             0.1          10   \n",
      "C2666           8        21        35         9             0.1          10   \n",
      "C6690           2         9        15         2             0.1          10   \n",
      "C2703          12        29        15        13             0.1          10   \n",
      "C8114           1         7        14         1             0.1          10   \n",
      "\n",
      "          Age  Gender  Area  \n",
      "Cust_id                      \n",
      "C10803   57.0  Female  East  \n",
      "C2666    52.0    Male  West  \n",
      "C6690    52.0    Male   NaN  \n",
      "C2703    45.0  Female  East  \n",
      "C8114    51.0  Female  East  \n"
     ]
    }
   ],
   "source": [
    "# read data into a DataFrame\n",
    "import pandas as pd\n",
    "data = pd.read_csv('Data/Linr_Reg_data_v01.csv', index_col=0)\n",
    "print(data.head())"
   ]
  },
  {
   "cell_type": "code",
   "execution_count": 58,
   "metadata": {},
   "outputs": [
    {
     "name": "stdout",
     "output_type": "stream",
     "text": [
      "(10100, 9)\n"
     ]
    }
   ],
   "source": [
    "print(data.shape)"
   ]
  },
  {
   "cell_type": "markdown",
   "metadata": {},
   "source": [
    "There are 10100 customers information in the data with 9 variables. Out of these 9, 1 is target variable and rest 8 are predictor variables."
   ]
  },
  {
   "cell_type": "markdown",
   "metadata": {},
   "source": [
    "What are the **features**?\n",
    "- Qtrx_Bal: Quarterly Balance (in thousands of Rupees)\n",
    "- Perc_inc_q4_q1: Percentage increase in Quarter 4 from Quarter 1\n",
    "- Age: Age of the customer\n",
    "- Gender: Gender of the customer\n",
    "- Area: Area of the customer\n",
    "\n",
    "What is the **response**?\n",
    "- Wallet_trx: Wallet transaction (in thousands of Rupees)"
   ]
  },
  {
   "cell_type": "markdown",
   "metadata": {},
   "source": [
    "## Questions About the Customers Data\n",
    "\n",
    "Let's say you work for the company that creates digital wallet for theor customers. The company might ask you the following: On the basis of this data, how should we spend our advertising money in the future?\n",
    "\n",
    "This general question might lead you to more specific questions:\n",
    "1. Is there a relationship between ads and sales?\n",
    "2. How strong is that relationship?\n",
    "3. Which ad types contribute to sales?\n",
    "4. What is the effect of each ad type of sales?\n",
    "5. Given ad spending in a particular market, can sales be predicted?\n",
    "\n",
    "We will explore these questions below!"
   ]
  },
  {
   "cell_type": "markdown",
   "metadata": {},
   "source": [
    "## Estimating (\"Learning\") Model Coefficients\n",
    "\n",
    "Generally speaking, coefficients are estimated using the **least squares criterion**, which means we are to find the line (mathematically) which minimizes the **sum of squared residuals** (or \"sum of squared errors\"):"
   ]
  },
  {
   "cell_type": "markdown",
   "metadata": {},
   "source": [
    "<img src=\"08_estimating_coefficients.png\">"
   ]
  },
  {
   "cell_type": "markdown",
   "metadata": {},
   "source": [
    "What elements are present in the diagram?\n",
    "- The black dots are the **observed values** of x and y.\n",
    "- The blue line is our **least squares line**.\n",
    "- The red lines are the **residuals**, which are the distances between the observed values and the least squares line.\n",
    "\n",
    "How do the model coefficients relate to the least squares line?\n",
    "- $\\beta_0$ is the **intercept** (the value of $y$ when $x$=0)\n",
    "- $\\beta_1$ is the **slope** (the change in $y$ divided by change in $x$)\n",
    "\n",
    "Here is a graphical depiction of those calculations:"
   ]
  },
  {
   "cell_type": "markdown",
   "metadata": {},
   "source": [
    "<img src=\"08_slope_intercept.png\">"
   ]
  },
  {
   "cell_type": "markdown",
   "metadata": {},
   "source": [
    "### The mathematics behind the Least Squares Method."
   ]
  },
  {
   "cell_type": "markdown",
   "metadata": {},
   "source": [
    "Take a quick look at the plot we created. Now consider each point, and know that they each have a coordinate in the form (X,Y). Now draw an imaginary line between each point and our current \"best-fit\" line. We'll call the distanace between each point and our current best-fit line, D. To get a quick image of what we're currently trying to visualize, take a look at the picture below:\n",
    "\n",
    "<img src=\"http://upload.wikimedia.org/wikipedia/commons/thumb/b/b0/Linear_least_squares_example2.svg/220px-Linear_least_squares_example2.svg.png\">"
   ]
  },
  {
   "cell_type": "markdown",
   "metadata": {},
   "source": [
    "Now as before, we're labeling each green line as having a distance D, and each red point as having a coordinate of (X,Y). Then we can define our best fit line as the line having the property were:\n",
    "$$ D_{1}^2 + D_{2}^2 + D_{3}^2 + D_{4}^2 + ....+ D_{N}^2$$"
   ]
  },
  {
   "cell_type": "markdown",
   "metadata": {},
   "source": [
    "So how do we find this line? The least-square line approximating the set of points:\n",
    "\n",
    "$$ (X,Y)_{1},(X,Y)_{2},(X,Y)_{3},(X,Y)_{4},(X,Y)_{5}, $$\n",
    "\n",
    "has the equation:\n",
    "$$ Y = a_{0} +a_{1}X $$\n",
    "this is basically just a rewritten form of the standard equation for a line:\n",
    "$$Y=mx+b$$"
   ]
  },
  {
   "cell_type": "markdown",
   "metadata": {},
   "source": [
    "We can solve for these constants a0 and a1 by simultaneously solving these equations:\n",
    "$$ \\Sigma Y = a_{0}N + a_{1}\\Sigma X $$\n",
    "$$ \\Sigma XY = a_{0}\\Sigma X + a_{1}\\Sigma X^2 $$"
   ]
  },
  {
   "cell_type": "markdown",
   "metadata": {},
   "source": [
    "These are called the normal equations for the least squares line. There are further steps that can be taken in rearranging these equations  to solve for y, but we'll let scikit-learn do the rest of the heavy lifting here."
   ]
  },
  {
   "cell_type": "markdown",
   "metadata": {},
   "source": [
    "# Scikit-Learn\n",
    "Scikit-learn is an open source Python library that implements a range of machine learning, pre-processing, cross-validation and visualization algorithms using a unified interface. \n",
    "\n",
    "Scikit-learn provides algorithms for machine learning tasks including classification, regression, dimensionality reduction, and clustering. It also provides modules for extracting features, processing data, and evaluating models.\n"
   ]
  },
  {
   "cell_type": "markdown",
   "metadata": {},
   "source": [
    "Let's create a simple linear regression model using scikit-learn. \n",
    "Do not forget to import LinearRegression from scikit-learn."
   ]
  },
  {
   "cell_type": "code",
   "execution_count": 11,
   "metadata": {
    "collapsed": true
   },
   "outputs": [],
   "source": [
    "from sklearn.linear_model import LinearRegression"
   ]
  },
  {
   "cell_type": "code",
   "execution_count": 15,
   "metadata": {},
   "outputs": [
    {
     "name": "stdout",
     "output_type": "stream",
     "text": [
      "54.81166971445027\n",
      "-0.008087844809396297\n"
     ]
    }
   ],
   "source": [
    "# create X and y\n",
    "feature_cols = ['Qtr1_Bal']\n",
    "X = data[feature_cols]\n",
    "y = data.Wallet_trx\n",
    "\n",
    "# follow the usual sklearn pattern: import, instantiate, fit\n",
    "lm = LinearRegression()\n",
    "lm.fit(X, y)\n",
    "\n",
    "# print intercept and coefficients\n",
    "print(lm.intercept_)\n",
    "print(lm.coef_[0])"
   ]
  },
  {
   "cell_type": "markdown",
   "metadata": {},
   "source": [
    "## Interpreting Model Coefficients\n",
    "\n",
    "How do we interpret the Qtr1_Bal coefficient ($\\beta_1$)?\n",
    "- A \"unit\" increase in Qtr1_Bal is **associated with** a Rs 0.008088 decrease in Wallet_trx.\n",
    "- Or more clearly: An additional Rs 1,000 in Qtr1_Bal is **associated with** a decrease in Wallet_trx of Rs 8.088.\n",
    "\n",
    "Note that if an increase in Qtr1_Bal spending was associated with a **increase** in Wallet_trx, $\\beta_1$ would be **positive**."
   ]
  },
  {
   "cell_type": "markdown",
   "metadata": {},
   "source": [
    "## Using the Model for Prediction\n",
    "\n",
    "Let's say that there was a new customer where the Qtr1_Bal was **10**. What would we predict for the Wallet_trx for that customer?\n",
    "\n",
    "$$y = \\beta_0 + \\beta_1x$$\n",
    "$$y = 54.81167 - 0.008088 \\times 10$$"
   ]
  },
  {
   "cell_type": "code",
   "execution_count": 16,
   "metadata": {},
   "outputs": [
    {
     "data": {
      "text/plain": [
       "54.73079"
      ]
     },
     "execution_count": 16,
     "metadata": {},
     "output_type": "execute_result"
    }
   ],
   "source": [
    "# manually calculate the prediction\n",
    "54.81167 - 0.008088*10"
   ]
  },
  {
   "cell_type": "markdown",
   "metadata": {},
   "source": [
    "Thus, we would predict Wallet_trn of **Rs 54.73079** for that customer."
   ]
  },
  {
   "cell_type": "code",
   "execution_count": 19,
   "metadata": {},
   "outputs": [
    {
     "data": {
      "text/html": [
       "<div>\n",
       "<style scoped>\n",
       "    .dataframe tbody tr th:only-of-type {\n",
       "        vertical-align: middle;\n",
       "    }\n",
       "\n",
       "    .dataframe tbody tr th {\n",
       "        vertical-align: top;\n",
       "    }\n",
       "\n",
       "    .dataframe thead th {\n",
       "        text-align: right;\n",
       "    }\n",
       "</style>\n",
       "<table border=\"1\" class=\"dataframe\">\n",
       "  <thead>\n",
       "    <tr style=\"text-align: right;\">\n",
       "      <th></th>\n",
       "      <th>Qtr1_Bal</th>\n",
       "    </tr>\n",
       "  </thead>\n",
       "  <tbody>\n",
       "    <tr>\n",
       "      <th>0</th>\n",
       "      <td>10</td>\n",
       "    </tr>\n",
       "  </tbody>\n",
       "</table>\n",
       "</div>"
      ],
      "text/plain": [
       "   Qtr1_Bal\n",
       "0        10"
      ]
     },
     "execution_count": 19,
     "metadata": {},
     "output_type": "execute_result"
    }
   ],
   "source": [
    "# you have to create a DataFrame since the Statsmodels formula interface expects it\n",
    "X_new = pd.DataFrame({'Qtr1_Bal': [10]})\n",
    "X_new.head()"
   ]
  },
  {
   "cell_type": "code",
   "execution_count": 20,
   "metadata": {},
   "outputs": [
    {
     "data": {
      "text/plain": [
       "array([54.73079127])"
      ]
     },
     "execution_count": 20,
     "metadata": {},
     "output_type": "execute_result"
    }
   ],
   "source": [
    "# use the model to make predictions on a new value\n",
    "lm.predict(X_new)"
   ]
  },
  {
   "cell_type": "markdown",
   "metadata": {},
   "source": [
    "## Plotting the Least Squares Line\n",
    "\n",
    "Let's make predictions for the **smallest and largest observed values of x**, and then use the predicted values to plot the least squares line:"
   ]
  },
  {
   "cell_type": "code",
   "execution_count": 21,
   "metadata": {},
   "outputs": [
    {
     "data": {
      "text/html": [
       "<div>\n",
       "<style scoped>\n",
       "    .dataframe tbody tr th:only-of-type {\n",
       "        vertical-align: middle;\n",
       "    }\n",
       "\n",
       "    .dataframe tbody tr th {\n",
       "        vertical-align: top;\n",
       "    }\n",
       "\n",
       "    .dataframe thead th {\n",
       "        text-align: right;\n",
       "    }\n",
       "</style>\n",
       "<table border=\"1\" class=\"dataframe\">\n",
       "  <thead>\n",
       "    <tr style=\"text-align: right;\">\n",
       "      <th></th>\n",
       "      <th>Qtr1_Bal</th>\n",
       "    </tr>\n",
       "  </thead>\n",
       "  <tbody>\n",
       "    <tr>\n",
       "      <th>0</th>\n",
       "      <td>1</td>\n",
       "    </tr>\n",
       "    <tr>\n",
       "      <th>1</th>\n",
       "      <td>15</td>\n",
       "    </tr>\n",
       "  </tbody>\n",
       "</table>\n",
       "</div>"
      ],
      "text/plain": [
       "   Qtr1_Bal\n",
       "0         1\n",
       "1        15"
      ]
     },
     "execution_count": 21,
     "metadata": {},
     "output_type": "execute_result"
    }
   ],
   "source": [
    "# create a DataFrame with the minimum and maximum values of TV\n",
    "X_new = pd.DataFrame({'Qtr1_Bal': [data.Qtr1_Bal.min(), data.Qtr1_Bal.max()]})\n",
    "X_new.head()"
   ]
  },
  {
   "cell_type": "code",
   "execution_count": 22,
   "metadata": {},
   "outputs": [
    {
     "data": {
      "text/plain": [
       "array([54.80358187, 54.69035204])"
      ]
     },
     "execution_count": 22,
     "metadata": {},
     "output_type": "execute_result"
    }
   ],
   "source": [
    "# make predictions for those x values and store them\n",
    "preds = lm.predict(X_new)\n",
    "preds"
   ]
  },
  {
   "cell_type": "code",
   "execution_count": 28,
   "metadata": {},
   "outputs": [
    {
     "data": {
      "text/plain": [
       "[<matplotlib.lines.Line2D at 0x2fb068867f0>]"
      ]
     },
     "execution_count": 28,
     "metadata": {},
     "output_type": "execute_result"
    },
    {
     "data": {
      "image/png": "[encoded data removed]",
      "text/plain": [
       "<Figure size 432x288 with 1 Axes>"
      ]
     },
     "metadata": {},
     "output_type": "display_data"
    }
   ],
   "source": [
    "import matplotlib.pyplot as plt\n",
    "# this allows plots to appear directly in the notebook\n",
    "%matplotlib inline\n",
    "\n",
    "# first, plot the observed data\n",
    "data.plot(kind='scatter', x='Qtr1_Bal', y='Wallet_trx')\n",
    "\n",
    "# then, plot the least squares line\n",
    "plt.plot(X_new, preds, c='red', linewidth=2)"
   ]
  },
  {
   "cell_type": "markdown",
   "metadata": {},
   "source": [
    "# Matplotlib\n",
    "To make necessary statistical inferences, it becomes necessary to visualize your data and **Matplotlib** is one such solution for the Python users. \n",
    "\n",
    "It is a very powerful plotting library useful for those working with Python and NumPy. The most used module of Matplotib is Pyplot which provides an interface like MATLAB but instead, it uses Python and it is open source."
   ]
  },
  {
   "cell_type": "markdown",
   "metadata": {},
   "source": [
    "## Confidence in our Model\n",
    "\n",
    "**Question:** Is linear regression a high bias/low variance model, or a low bias/high variance model?\n",
    "\n",
    "**Answer:** High bias/low variance. Under repeated sampling, the line will stay roughly in the same place (low variance), but the average of those models won't do a great job capturing the true relationship (high bias). Note that low variance is a useful characteristic when you don't have a lot of training data!\n",
    "\n",
    "A closely related concept is **confidence intervals**. Statsmodels calculates 95% confidence intervals for our model coefficients, which are interpreted as follows: If the population from which this sample was drawn was **sampled 100 times**, approximately **95 of those confidence intervals** would contain the \"true\" coefficient."
   ]
  },
  {
   "cell_type": "code",
   "execution_count": 29,
   "metadata": {},
   "outputs": [
    {
     "data": {
      "text/html": [
       "<div>\n",
       "<style scoped>\n",
       "    .dataframe tbody tr th:only-of-type {\n",
       "        vertical-align: middle;\n",
       "    }\n",
       "\n",
       "    .dataframe tbody tr th {\n",
       "        vertical-align: top;\n",
       "    }\n",
       "\n",
       "    .dataframe thead th {\n",
       "        text-align: right;\n",
       "    }\n",
       "</style>\n",
       "<table border=\"1\" class=\"dataframe\">\n",
       "  <thead>\n",
       "    <tr style=\"text-align: right;\">\n",
       "      <th></th>\n",
       "      <th>0</th>\n",
       "      <th>1</th>\n",
       "    </tr>\n",
       "  </thead>\n",
       "  <tbody>\n",
       "    <tr>\n",
       "      <th>Intercept</th>\n",
       "      <td>53.734904</td>\n",
       "      <td>55.888436</td>\n",
       "    </tr>\n",
       "    <tr>\n",
       "      <th>Qtr1_Bal</th>\n",
       "      <td>-0.126929</td>\n",
       "      <td>0.110754</td>\n",
       "    </tr>\n",
       "  </tbody>\n",
       "</table>\n",
       "</div>"
      ],
      "text/plain": [
       "                   0          1\n",
       "Intercept  53.734904  55.888436\n",
       "Qtr1_Bal   -0.126929   0.110754"
      ]
     },
     "execution_count": 29,
     "metadata": {},
     "output_type": "execute_result"
    }
   ],
   "source": [
    "import statsmodels.formula.api as smf\n",
    "lm = smf.ols(formula='Wallet_trx ~ Qtr1_Bal', data=data).fit()\n",
    "lm.conf_int()"
   ]
  },
  {
   "cell_type": "markdown",
   "metadata": {},
   "source": [
    "Keep in mind that we only have a **single sample of data**, and not the **entire population of data**. The \"true\" coefficient is either within this interval or it isn't, but there's no way to actually know. We estimate the coefficient with the data we do have, and we show uncertainty about that estimate by giving a range that the coefficient is **probably** within.\n",
    "\n",
    "Note that using 95% confidence intervals is just a convention. You can create 90% confidence intervals (which will be more narrow), 99% confidence intervals (which will be wider), or whatever intervals you like."
   ]
  },
  {
   "cell_type": "markdown",
   "metadata": {},
   "source": [
    "## Hypothesis Testing and p-values\n",
    "\n",
    "Closely related to confidence intervals is **hypothesis testing**. Generally speaking, you start with a **null hypothesis** and an **alternative hypothesis** (that is opposite the null). Then, you check whether the data supports **rejecting the null hypothesis** or **failing to reject the null hypothesis**.\n",
    "\n",
    "(Note that \"failing to reject\" the null is not the same as \"accepting\" the null hypothesis. The alternative hypothesis may indeed be true, except that you just don't have enough data to show that.)\n",
    "\n",
    "As it relates to model coefficients, here is the conventional hypothesis test:\n",
    "- **null hypothesis:** There is no relationship between TV ads and Sales (and thus $\\beta_1$ equals zero)\n",
    "- **alternative hypothesis:** There is a relationship between TV ads and Sales (and thus $\\beta_1$ is not equal to zero)\n",
    "\n",
    "How do we test this hypothesis? Intuitively, we reject the null (and thus believe the alternative) if the 95% confidence interval **does not include zero**. Conversely, the **p-value** represents the probability that the coefficient is actually zero:"
   ]
  },
  {
   "cell_type": "code",
   "execution_count": 30,
   "metadata": {},
   "outputs": [
    {
     "data": {
      "text/plain": [
       "Intercept    0.000000\n",
       "Qtr1_Bal     0.893878\n",
       "dtype: float64"
      ]
     },
     "execution_count": 30,
     "metadata": {},
     "output_type": "execute_result"
    }
   ],
   "source": [
    "# print the p-values for the model coefficients\n",
    "lm.pvalues"
   ]
  },
  {
   "cell_type": "markdown",
   "metadata": {},
   "source": [
    "If the 95% confidence interval **includes zero**, the p-value for that coefficient will be **greater than 0.05**. If the 95% confidence interval **does not include zero**, the p-value will be **less than 0.05**. Thus, a p-value less than 0.05 is one way to decide whether there is likely a relationship between the feature and the response. (Again, using 0.05 as the cutoff is just a convention.)\n",
    "\n",
    "In this case, the p-value for Qtr1_Bal is far greater than 0.05, and so we **believe** that there is not a relationship between Qtr1_Bal and Wallet_trx.\n",
    "\n",
    "Note that we generally ignore the p-value for the intercept."
   ]
  },
  {
   "cell_type": "markdown",
   "metadata": {},
   "source": [
    "## How Well Does the Model Fit the data?\n",
    "\n",
    "The most common way to evaluate the overall fit of a linear model is by the **R-squared** value. R-squared is the **proportion of variance explained**, meaning the proportion of variance in the observed data that is explained by the model, or the reduction in error over the **null model**. (The null model just predicts the mean of the observed response, and thus it has an intercept and no slope.)\n",
    "\n",
    "R-squared is between 0 and 1, and higher is better because it means that more variance is explained by the model. Here's an example of what R-squared \"looks like\":"
   ]
  },
  {
   "cell_type": "markdown",
   "metadata": {},
   "source": [
    "<img src=\"images/08_r_squared.png\">"
   ]
  },
  {
   "cell_type": "markdown",
   "metadata": {},
   "source": [
    "You can see that the **blue line** explains some of the variance in the data (R-squared=0.54), the **green line** explains more of the variance (R-squared=0.64), and the **red line** fits the training data even further (R-squared=0.66). (Does the red line look like it's overfitting?)\n",
    "\n",
    "Let's calculate the R-squared value for our simple linear model:"
   ]
  },
  {
   "cell_type": "code",
   "execution_count": 31,
   "metadata": {},
   "outputs": [
    {
     "data": {
      "text/plain": [
       "1.76235611903941e-06"
      ]
     },
     "execution_count": 31,
     "metadata": {},
     "output_type": "execute_result"
    }
   ],
   "source": [
    "# print the R-squared value for the model\n",
    "lm.rsquared"
   ]
  },
  {
   "cell_type": "markdown",
   "metadata": {},
   "source": [
    "Is that a \"good\" R-squared value? It's not. The threshold for a good R-squared value depends widely on the domain. Therefore, it's most useful as a tool for **comparing different models**."
   ]
  },
  {
   "cell_type": "markdown",
   "metadata": {},
   "source": [
    "# Check Missing Value "
   ]
  },
  {
   "cell_type": "code",
   "execution_count": 59,
   "metadata": {},
   "outputs": [
    {
     "name": "stdout",
     "output_type": "stream",
     "text": [
      "Qtr1_Bal             0\n",
      "Qtr2_Bal             0\n",
      "Qtr3_Bal             0\n",
      "Qtr4_Bal             0\n",
      "Perc_inc_q4_q1       0\n",
      "Wallet_trx           0\n",
      "Age               1781\n",
      "Gender               0\n",
      "Area                26\n",
      "dtype: int64\n"
     ]
    }
   ],
   "source": [
    "print(data.isnull().sum())"
   ]
  },
  {
   "cell_type": "markdown",
   "metadata": {},
   "source": [
    "We can see there are missing values in Age and Area.\n"
   ]
  },
  {
   "cell_type": "markdown",
   "metadata": {},
   "source": [
    "There are multiple ways to treat the missing values. Some of them are : \n",
    "\n",
    "* Remove rows with missing values\n",
    "* Remove columns with missing values\n",
    "* Replace the missing values with a unique constant value, mean/mode, etc"
   ]
  },
  {
   "cell_type": "markdown",
   "metadata": {},
   "source": [
    "There are few ML algorithms which support missing values which we will discuss later."
   ]
  },
  {
   "cell_type": "code",
   "execution_count": 60,
   "metadata": {},
   "outputs": [
    {
     "name": "stdout",
     "output_type": "stream",
     "text": [
      "(10100, 9)\n"
     ]
    }
   ],
   "source": [
    "print(data.shape)"
   ]
  },
  {
   "cell_type": "markdown",
   "metadata": {},
   "source": [
    "Out of 10100, 26 rows have Area missing. \n",
    "\n",
    "Let's replace the missing values of Area by mode value of Area."
   ]
  },
  {
   "cell_type": "code",
   "execution_count": 91,
   "metadata": {},
   "outputs": [
    {
     "name": "stdout",
     "output_type": "stream",
     "text": [
      "0    West\n",
      "dtype: object\n"
     ]
    }
   ],
   "source": [
    "# Find the mean value of Age\n",
    "print(data.Area.mode())"
   ]
  },
  {
   "cell_type": "code",
   "execution_count": 92,
   "metadata": {
    "collapsed": true
   },
   "outputs": [],
   "source": [
    "# Replace the missing values in Area by mode value of Area\n",
    "data.loc[data['Area'].isnull(),'Area'] = 'West'"
   ]
  },
  {
   "cell_type": "code",
   "execution_count": 93,
   "metadata": {},
   "outputs": [
    {
     "name": "stdout",
     "output_type": "stream",
     "text": [
      "0    West\n",
      "dtype: object\n"
     ]
    }
   ],
   "source": [
    "print(data['Area'].mode())"
   ]
  },
  {
   "cell_type": "markdown",
   "metadata": {},
   "source": [
    "Mode remains same as we have replaced missing values with mode only."
   ]
  },
  {
   "cell_type": "code",
   "execution_count": 94,
   "metadata": {},
   "outputs": [
    {
     "name": "stdout",
     "output_type": "stream",
     "text": [
      "0\n"
     ]
    }
   ],
   "source": [
    "print(data['Area'].isnull().sum())"
   ]
  },
  {
   "cell_type": "markdown",
   "metadata": {},
   "source": [
    "Now, no missing value in Area."
   ]
  },
  {
   "cell_type": "markdown",
   "metadata": {},
   "source": [
    "Let's do the missing value treatment for Age variable."
   ]
  },
  {
   "cell_type": "code",
   "execution_count": 95,
   "metadata": {},
   "outputs": [
    {
     "name": "stdout",
     "output_type": "stream",
     "text": [
      "0.17633663366336633\n"
     ]
    }
   ],
   "source": [
    "print(1781/10100)"
   ]
  },
  {
   "cell_type": "markdown",
   "metadata": {},
   "source": [
    "Almost 18% missing values. Since we have a lot of missing values here, we can drop this column."
   ]
  },
  {
   "cell_type": "code",
   "execution_count": 98,
   "metadata": {},
   "outputs": [
    {
     "name": "stdout",
     "output_type": "stream",
     "text": [
      "(10100, 8)\n",
      "Qtr1_Bal          0\n",
      "Qtr2_Bal          0\n",
      "Qtr3_Bal          0\n",
      "Qtr4_Bal          0\n",
      "Perc_inc_q4_q1    0\n",
      "Wallet_trx        0\n",
      "Gender            0\n",
      "Area              0\n",
      "dtype: int64\n"
     ]
    }
   ],
   "source": [
    "data = data.drop('Age',axis=1)\n",
    "print(data.shape)\n",
    "print(data.isnull().sum())"
   ]
  },
  {
   "cell_type": "markdown",
   "metadata": {},
   "source": [
    "# Outlier Treatment\n",
    "1. Find the Outliers\n",
    "2. Remove the Outliers"
   ]
  },
  {
   "cell_type": "code",
   "execution_count": 99,
   "metadata": {},
   "outputs": [
    {
     "data": {
      "text/html": [
       "<div>\n",
       "<style scoped>\n",
       "    .dataframe tbody tr th:only-of-type {\n",
       "        vertical-align: middle;\n",
       "    }\n",
       "\n",
       "    .dataframe tbody tr th {\n",
       "        vertical-align: top;\n",
       "    }\n",
       "\n",
       "    .dataframe thead th {\n",
       "        text-align: right;\n",
       "    }\n",
       "</style>\n",
       "<table border=\"1\" class=\"dataframe\">\n",
       "  <thead>\n",
       "    <tr style=\"text-align: right;\">\n",
       "      <th></th>\n",
       "      <th>Qtr1_Bal</th>\n",
       "      <th>Qtr2_Bal</th>\n",
       "      <th>Qtr3_Bal</th>\n",
       "      <th>Qtr4_Bal</th>\n",
       "      <th>Perc_inc_q4_q1</th>\n",
       "      <th>Wallet_trx</th>\n",
       "    </tr>\n",
       "  </thead>\n",
       "  <tbody>\n",
       "    <tr>\n",
       "      <th>count</th>\n",
       "      <td>10100.000000</td>\n",
       "      <td>10100.000000</td>\n",
       "      <td>10100.000000</td>\n",
       "      <td>10100.000000</td>\n",
       "      <td>10100.000000</td>\n",
       "      <td>10100.000000</td>\n",
       "    </tr>\n",
       "    <tr>\n",
       "      <th>mean</th>\n",
       "      <td>7.980000</td>\n",
       "      <td>20.960000</td>\n",
       "      <td>22.454059</td>\n",
       "      <td>25.527525</td>\n",
       "      <td>0.547471</td>\n",
       "      <td>54.747129</td>\n",
       "    </tr>\n",
       "    <tr>\n",
       "      <th>std</th>\n",
       "      <td>4.291211</td>\n",
       "      <td>8.582422</td>\n",
       "      <td>6.487213</td>\n",
       "      <td>710.108537</td>\n",
       "      <td>0.261436</td>\n",
       "      <td>26.143628</td>\n",
       "    </tr>\n",
       "    <tr>\n",
       "      <th>min</th>\n",
       "      <td>1.000000</td>\n",
       "      <td>7.000000</td>\n",
       "      <td>10.000000</td>\n",
       "      <td>1.000000</td>\n",
       "      <td>0.100000</td>\n",
       "      <td>10.000000</td>\n",
       "    </tr>\n",
       "    <tr>\n",
       "      <th>25%</th>\n",
       "      <td>4.000000</td>\n",
       "      <td>13.000000</td>\n",
       "      <td>18.000000</td>\n",
       "      <td>6.000000</td>\n",
       "      <td>0.320000</td>\n",
       "      <td>32.000000</td>\n",
       "    </tr>\n",
       "    <tr>\n",
       "      <th>50%</th>\n",
       "      <td>8.000000</td>\n",
       "      <td>21.000000</td>\n",
       "      <td>22.000000</td>\n",
       "      <td>12.000000</td>\n",
       "      <td>0.550000</td>\n",
       "      <td>55.000000</td>\n",
       "    </tr>\n",
       "    <tr>\n",
       "      <th>75%</th>\n",
       "      <td>12.000000</td>\n",
       "      <td>29.000000</td>\n",
       "      <td>27.000000</td>\n",
       "      <td>18.000000</td>\n",
       "      <td>0.770000</td>\n",
       "      <td>77.000000</td>\n",
       "    </tr>\n",
       "    <tr>\n",
       "      <th>max</th>\n",
       "      <td>15.000000</td>\n",
       "      <td>35.000000</td>\n",
       "      <td>40.000000</td>\n",
       "      <td>50000.000000</td>\n",
       "      <td>1.000000</td>\n",
       "      <td>100.000000</td>\n",
       "    </tr>\n",
       "  </tbody>\n",
       "</table>\n",
       "</div>"
      ],
      "text/plain": [
       "           Qtr1_Bal      Qtr2_Bal      Qtr3_Bal      Qtr4_Bal  Perc_inc_q4_q1  \\\n",
       "count  10100.000000  10100.000000  10100.000000  10100.000000    10100.000000   \n",
       "mean       7.980000     20.960000     22.454059     25.527525        0.547471   \n",
       "std        4.291211      8.582422      6.487213    710.108537        0.261436   \n",
       "min        1.000000      7.000000     10.000000      1.000000        0.100000   \n",
       "25%        4.000000     13.000000     18.000000      6.000000        0.320000   \n",
       "50%        8.000000     21.000000     22.000000     12.000000        0.550000   \n",
       "75%       12.000000     29.000000     27.000000     18.000000        0.770000   \n",
       "max       15.000000     35.000000     40.000000  50000.000000        1.000000   \n",
       "\n",
       "         Wallet_trx  \n",
       "count  10100.000000  \n",
       "mean      54.747129  \n",
       "std       26.143628  \n",
       "min       10.000000  \n",
       "25%       32.000000  \n",
       "50%       55.000000  \n",
       "75%       77.000000  \n",
       "max      100.000000  "
      ]
     },
     "execution_count": 99,
     "metadata": {},
     "output_type": "execute_result"
    }
   ],
   "source": [
    "data.describe()"
   ]
  },
  {
   "cell_type": "markdown",
   "metadata": {},
   "source": [
    "From above we can see, Qtr4_Bal has max 50000 which seems outlier. We need to check if there is a single outlier or multiple such outliers."
   ]
  },
  {
   "cell_type": "code",
   "execution_count": 100,
   "metadata": {},
   "outputs": [
    {
     "name": "stdout",
     "output_type": "stream",
     "text": [
      "Cust_id\n",
      "C10803    50000\n",
      "C10020    40000\n",
      "C6176     30000\n",
      "C8563      9000\n",
      "C10031     4000\n",
      "Name: Qtr4_Bal, dtype: int64\n"
     ]
    }
   ],
   "source": [
    "print(data.loc[data.Qtr4_Bal>100,'Qtr4_Bal'])"
   ]
  },
  {
   "cell_type": "markdown",
   "metadata": {},
   "source": [
    "We can see there are 5 values in Qtr4_Bal which are very high. \n",
    "\n",
    "We can either remove these rows or replace these values with the mean value."
   ]
  },
  {
   "cell_type": "code",
   "execution_count": 101,
   "metadata": {},
   "outputs": [
    {
     "name": "stdout",
     "output_type": "stream",
     "text": [
      "Shape of the Data before removing outliers :  (10100, 8)\n",
      "Shape of the Data after removing outliers :  (10095, 8)\n"
     ]
    }
   ],
   "source": [
    "# Remove these rows\n",
    "print(\"Shape of the Data before removing outliers : \",data.shape)\n",
    "data = data[data['Qtr4_Bal']<100]\n",
    "print(\"Shape of the Data after removing outliers : \",data.shape)"
   ]
  },
  {
   "cell_type": "code",
   "execution_count": 102,
   "metadata": {},
   "outputs": [
    {
     "name": "stdout",
     "output_type": "stream",
     "text": [
      "         Qtr1_Bal  Qtr2_Bal  Qtr3_Bal  Qtr4_Bal  Perc_inc_q4_q1  Wallet_trx  \\\n",
      "Cust_id                                                                       \n",
      "C2666           8        21        35         9             0.1          10   \n",
      "C6690           2         9        15         2             0.1          10   \n",
      "C2703          12        29        15        13             0.1          10   \n",
      "C8114           1         7        14         1             0.1          10   \n",
      "C10899          9        23        13        10             0.1          10   \n",
      "\n",
      "         Gender  Area  \n",
      "Cust_id                \n",
      "C2666      Male  West  \n",
      "C6690      Male  West  \n",
      "C2703    Female  East  \n",
      "C8114    Female  East  \n",
      "C10899     Male  West  \n"
     ]
    }
   ],
   "source": [
    "print(data.head())"
   ]
  },
  {
   "cell_type": "markdown",
   "metadata": {},
   "source": [
    "# Categorical Variables treatment\n",
    "Scikit-learn needs all variables to be numeric. Hence categorical/string variables need to be converted into numeric.\n",
    "This can be done using pandas' get_dummies() function."
   ]
  },
  {
   "cell_type": "code",
   "execution_count": 103,
   "metadata": {},
   "outputs": [
    {
     "name": "stdout",
     "output_type": "stream",
     "text": [
      "         Female  Male\n",
      "Cust_id              \n",
      "C2666         0     1\n",
      "C6690         0     1\n",
      "C2703         1     0\n",
      "C8114         1     0\n",
      "C10899        0     1\n",
      "...         ...   ...\n",
      "C2201         1     0\n",
      "C2431         0     1\n",
      "C6541         1     0\n",
      "C7998         0     1\n",
      "C4176         1     0\n",
      "\n",
      "[10095 rows x 2 columns]\n"
     ]
    }
   ],
   "source": [
    "print(pd.get_dummies(data['Gender']))"
   ]
  },
  {
   "cell_type": "markdown",
   "metadata": {},
   "source": [
    "As we can see the Gender variable is now converted into two variables : Male and Female"
   ]
  },
  {
   "cell_type": "markdown",
   "metadata": {},
   "source": [
    "Append this data into original data and remove Gender from it."
   ]
  },
  {
   "cell_type": "code",
   "execution_count": 111,
   "metadata": {},
   "outputs": [
    {
     "ename": "AttributeError",
     "evalue": "'DataFrame' object has no attribute 'Gender'",
     "output_type": "error",
     "traceback": [
      "\u001b[1;31m---------------------------------------------------------------------------\u001b[0m",
      "\u001b[1;31mAttributeError\u001b[0m                            Traceback (most recent call last)",
      "\u001b[1;32m<ipython-input-111-96f6e837e135>\u001b[0m in \u001b[0;36m<module>\u001b[1;34m()\u001b[0m\n\u001b[1;32m----> 1\u001b[1;33m \u001b[0mdata\u001b[0m \u001b[1;33m=\u001b[0m \u001b[0mpd\u001b[0m\u001b[1;33m.\u001b[0m\u001b[0mconcat\u001b[0m\u001b[1;33m(\u001b[0m\u001b[1;33m[\u001b[0m\u001b[0mdata\u001b[0m\u001b[1;33m,\u001b[0m\u001b[0mpd\u001b[0m\u001b[1;33m.\u001b[0m\u001b[0mget_dummies\u001b[0m\u001b[1;33m(\u001b[0m\u001b[0mdata\u001b[0m\u001b[1;33m.\u001b[0m\u001b[0mGender\u001b[0m\u001b[1;33m)\u001b[0m\u001b[1;33m]\u001b[0m\u001b[1;33m,\u001b[0m\u001b[0maxis\u001b[0m\u001b[1;33m=\u001b[0m\u001b[1;36m1\u001b[0m\u001b[1;33m)\u001b[0m\u001b[1;33m\u001b[0m\u001b[0m\n\u001b[0m\u001b[0;32m      2\u001b[0m \u001b[0mdata\u001b[0m \u001b[1;33m=\u001b[0m \u001b[0mdata\u001b[0m\u001b[1;33m.\u001b[0m\u001b[0mdrop\u001b[0m\u001b[1;33m(\u001b[0m\u001b[1;34m'Gender'\u001b[0m\u001b[1;33m,\u001b[0m\u001b[0maxis\u001b[0m\u001b[1;33m=\u001b[0m\u001b[1;36m1\u001b[0m\u001b[1;33m)\u001b[0m\u001b[1;33m\u001b[0m\u001b[0m\n",
      "\u001b[1;32mC:\\Users\\ab275\\AppData\\Roaming\\Python\\Python36\\site-packages\\pandas\\core\\generic.py\u001b[0m in \u001b[0;36m__getattr__\u001b[1;34m(self, name)\u001b[0m\n\u001b[0;32m   5178\u001b[0m             \u001b[1;32mif\u001b[0m \u001b[0mself\u001b[0m\u001b[1;33m.\u001b[0m\u001b[0m_info_axis\u001b[0m\u001b[1;33m.\u001b[0m\u001b[0m_can_hold_identifiers_and_holds_name\u001b[0m\u001b[1;33m(\u001b[0m\u001b[0mname\u001b[0m\u001b[1;33m)\u001b[0m\u001b[1;33m:\u001b[0m\u001b[1;33m\u001b[0m\u001b[0m\n\u001b[0;32m   5179\u001b[0m                 \u001b[1;32mreturn\u001b[0m \u001b[0mself\u001b[0m\u001b[1;33m[\u001b[0m\u001b[0mname\u001b[0m\u001b[1;33m]\u001b[0m\u001b[1;33m\u001b[0m\u001b[0m\n\u001b[1;32m-> 5180\u001b[1;33m             \u001b[1;32mreturn\u001b[0m \u001b[0mobject\u001b[0m\u001b[1;33m.\u001b[0m\u001b[0m__getattribute__\u001b[0m\u001b[1;33m(\u001b[0m\u001b[0mself\u001b[0m\u001b[1;33m,\u001b[0m \u001b[0mname\u001b[0m\u001b[1;33m)\u001b[0m\u001b[1;33m\u001b[0m\u001b[0m\n\u001b[0m\u001b[0;32m   5181\u001b[0m \u001b[1;33m\u001b[0m\u001b[0m\n\u001b[0;32m   5182\u001b[0m     \u001b[1;32mdef\u001b[0m \u001b[0m__setattr__\u001b[0m\u001b[1;33m(\u001b[0m\u001b[0mself\u001b[0m\u001b[1;33m,\u001b[0m \u001b[0mname\u001b[0m\u001b[1;33m,\u001b[0m \u001b[0mvalue\u001b[0m\u001b[1;33m)\u001b[0m\u001b[1;33m:\u001b[0m\u001b[1;33m\u001b[0m\u001b[0m\n",
      "\u001b[1;31mAttributeError\u001b[0m: 'DataFrame' object has no attribute 'Gender'"
     ]
    }
   ],
   "source": [
    "data = pd.concat([data,pd.get_dummies(data.Gender)],axis=1)\n",
    "data = data.drop('Gender',axis=1)"
   ]
  },
  {
   "cell_type": "code",
   "execution_count": 109,
   "metadata": {},
   "outputs": [
    {
     "name": "stdout",
     "output_type": "stream",
     "text": [
      "         Qtr1_Bal  Qtr2_Bal  Qtr3_Bal  Qtr4_Bal  Perc_inc_q4_q1  Wallet_trx  \\\n",
      "Cust_id                                                                       \n",
      "C2666           8        21        35         9             0.1          10   \n",
      "C6690           2         9        15         2             0.1          10   \n",
      "C2703          12        29        15        13             0.1          10   \n",
      "C8114           1         7        14         1             0.1          10   \n",
      "C10899          9        23        13        10             0.1          10   \n",
      "\n",
      "         Area  Female  Male  \n",
      "Cust_id                      \n",
      "C2666    West       0     1  \n",
      "C6690    West       0     1  \n",
      "C2703    East       1     0  \n",
      "C8114    East       1     0  \n",
      "C10899   West       0     1  \n"
     ]
    }
   ],
   "source": [
    "print(data.head())"
   ]
  },
  {
   "cell_type": "code",
   "execution_count": 113,
   "metadata": {},
   "outputs": [
    {
     "name": "stdout",
     "output_type": "stream",
     "text": [
      "(10095, 12)\n"
     ]
    }
   ],
   "source": [
    "print(data.shape)"
   ]
  },
  {
   "cell_type": "markdown",
   "metadata": {},
   "source": [
    "Repeat the same process for Area variable also."
   ]
  },
  {
   "cell_type": "code",
   "execution_count": 112,
   "metadata": {
    "collapsed": true
   },
   "outputs": [],
   "source": [
    "data = pd.concat([data,pd.get_dummies(data.Area)],axis=1)\n",
    "data = data.drop('Area',axis=1)"
   ]
  },
  {
   "cell_type": "code",
   "execution_count": 114,
   "metadata": {},
   "outputs": [
    {
     "name": "stdout",
     "output_type": "stream",
     "text": [
      "(10095, 12)\n"
     ]
    }
   ],
   "source": [
    "print(data.shape)"
   ]
  },
  {
   "cell_type": "code",
   "execution_count": 115,
   "metadata": {},
   "outputs": [
    {
     "name": "stdout",
     "output_type": "stream",
     "text": [
      "         Qtr1_Bal  Qtr2_Bal  Qtr3_Bal  Qtr4_Bal  Perc_inc_q4_q1  Wallet_trx  \\\n",
      "Cust_id                                                                       \n",
      "C2666           8        21        35         9             0.1          10   \n",
      "C6690           2         9        15         2             0.1          10   \n",
      "C2703          12        29        15        13             0.1          10   \n",
      "C8114           1         7        14         1             0.1          10   \n",
      "C10899          9        23        13        10             0.1          10   \n",
      "\n",
      "         Female  Male  East  North  South  West  \n",
      "Cust_id                                          \n",
      "C2666         0     1     0      0      0     1  \n",
      "C6690         0     1     0      0      0     1  \n",
      "C2703         1     0     1      0      0     0  \n",
      "C8114         1     0     1      0      0     0  \n",
      "C10899        0     1     0      0      0     1  \n"
     ]
    }
   ],
   "source": [
    "print(data.head())"
   ]
  },
  {
   "cell_type": "markdown",
   "metadata": {},
   "source": [
    "# Multiple Linear Regression\n",
    "Now, let's create a multiple linear regression model using scikit-learn."
   ]
  },
  {
   "cell_type": "code",
   "execution_count": 140,
   "metadata": {},
   "outputs": [
    {
     "name": "stdout",
     "output_type": "stream",
     "text": [
      "83.91198664602084\n",
      "[-2.97434048 -5.94868097  0.01308078  9.62443314 -0.08061783  0.08061783\n",
      " -0.28246338  0.21591401  0.10143983 -0.03489045]\n"
     ]
    }
   ],
   "source": [
    "# create X and y\n",
    "feature_cols = ['Qtr1_Bal', 'Qtr2_Bal', 'Qtr3_Bal','Qtr4_Bal','Female', 'Male', 'North','South','East','West']\n",
    "X = data[feature_cols]\n",
    "y = data.Wallet_trx\n",
    "\n",
    "lm = LinearRegression()\n",
    "lm.fit(X, y)\n",
    "\n",
    "# print intercept and coefficients\n",
    "print(lm.intercept_)\n",
    "print(lm.coef_)"
   ]
  },
  {
   "cell_type": "markdown",
   "metadata": {},
   "source": [
    "How do we interpret these coefficients?\n",
    "\n",
    "A lot of the information we have been reviewing piece-by-piece is available in the model summary output:"
   ]
  },
  {
   "cell_type": "code",
   "execution_count": 138,
   "metadata": {},
   "outputs": [
    {
     "data": {
      "text/html": [
       "<table class=\"simpletable\">\n",
       "<caption>OLS Regression Results</caption>\n",
       "<tr>\n",
       "  <th>Dep. Variable:</th>       <td>Wallet_trx</td>    <th>  R-squared:         </th> <td>   0.772</td> \n",
       "</tr>\n",
       "<tr>\n",
       "  <th>Model:</th>                   <td>OLS</td>       <th>  Adj. R-squared:    </th> <td>   0.772</td> \n",
       "</tr>\n",
       "<tr>\n",
       "  <th>Method:</th>             <td>Least Squares</td>  <th>  F-statistic:       </th> <td>   4888.</td> \n",
       "</tr>\n",
       "<tr>\n",
       "  <th>Date:</th>             <td>Sun, 01 Sep 2019</td> <th>  Prob (F-statistic):</th>  <td>  0.00</td>  \n",
       "</tr>\n",
       "<tr>\n",
       "  <th>Time:</th>                 <td>02:00:46</td>     <th>  Log-Likelihood:    </th> <td> -39796.</td> \n",
       "</tr>\n",
       "<tr>\n",
       "  <th>No. Observations:</th>      <td> 10095</td>      <th>  AIC:               </th> <td>7.961e+04</td>\n",
       "</tr>\n",
       "<tr>\n",
       "  <th>Df Residuals:</th>          <td> 10087</td>      <th>  BIC:               </th> <td>7.967e+04</td>\n",
       "</tr>\n",
       "<tr>\n",
       "  <th>Df Model:</th>              <td>     7</td>      <th>                     </th>     <td> </td>    \n",
       "</tr>\n",
       "<tr>\n",
       "  <th>Covariance Type:</th>      <td>nonrobust</td>    <th>                     </th>     <td> </td>    \n",
       "</tr>\n",
       "</table>\n",
       "<table class=\"simpletable\">\n",
       "<tr>\n",
       "      <td></td>         <th>coef</th>     <th>std err</th>      <th>t</th>      <th>P>|t|</th>  <th>[0.025</th>    <th>0.975]</th>  \n",
       "</tr>\n",
       "<tr>\n",
       "  <th>Intercept</th> <td>   12.4314</td> <td>    0.082</td> <td>  151.729</td> <td> 0.000</td> <td>   12.271</td> <td>   12.592</td>\n",
       "</tr>\n",
       "<tr>\n",
       "  <th>Qtr1_Bal</th>  <td>  -27.8372</td> <td>    0.172</td> <td> -161.671</td> <td> 0.000</td> <td>  -28.175</td> <td>  -27.500</td>\n",
       "</tr>\n",
       "<tr>\n",
       "  <th>Qtr2_Bal</th>  <td>    6.4827</td> <td>    0.073</td> <td>   88.414</td> <td> 0.000</td> <td>    6.339</td> <td>    6.626</td>\n",
       "</tr>\n",
       "<tr>\n",
       "  <th>Qtr3_Bal</th>  <td>    0.0131</td> <td>    0.019</td> <td>    0.683</td> <td> 0.495</td> <td>   -0.024</td> <td>    0.051</td>\n",
       "</tr>\n",
       "<tr>\n",
       "  <th>Qtr4_Bal</th>  <td>    9.6244</td> <td>    0.052</td> <td>  184.900</td> <td> 0.000</td> <td>    9.522</td> <td>    9.726</td>\n",
       "</tr>\n",
       "<tr>\n",
       "  <th>Female</th>    <td>    6.1351</td> <td>    0.131</td> <td>   46.848</td> <td> 0.000</td> <td>    5.878</td> <td>    6.392</td>\n",
       "</tr>\n",
       "<tr>\n",
       "  <th>Male</th>      <td>    6.2963</td> <td>    0.131</td> <td>   48.175</td> <td> 0.000</td> <td>    6.040</td> <td>    6.553</td>\n",
       "</tr>\n",
       "<tr>\n",
       "  <th>North</th>     <td>    2.8254</td> <td>    0.222</td> <td>   12.752</td> <td> 0.000</td> <td>    2.391</td> <td>    3.260</td>\n",
       "</tr>\n",
       "<tr>\n",
       "  <th>South</th>     <td>    3.3238</td> <td>    0.223</td> <td>   14.919</td> <td> 0.000</td> <td>    2.887</td> <td>    3.760</td>\n",
       "</tr>\n",
       "<tr>\n",
       "  <th>East</th>      <td>    3.2093</td> <td>    0.292</td> <td>   10.983</td> <td> 0.000</td> <td>    2.636</td> <td>    3.782</td>\n",
       "</tr>\n",
       "<tr>\n",
       "  <th>West</th>      <td>    3.0730</td> <td>    0.197</td> <td>   15.627</td> <td> 0.000</td> <td>    2.687</td> <td>    3.458</td>\n",
       "</tr>\n",
       "</table>\n",
       "<table class=\"simpletable\">\n",
       "<tr>\n",
       "  <th>Omnibus:</th>       <td>116.003</td> <th>  Durbin-Watson:     </th> <td>   1.521</td>\n",
       "</tr>\n",
       "<tr>\n",
       "  <th>Prob(Omnibus):</th> <td> 0.000</td>  <th>  Jarque-Bera (JB):  </th> <td> 202.019</td>\n",
       "</tr>\n",
       "<tr>\n",
       "  <th>Skew:</th>          <td>-0.027</td>  <th>  Prob(JB):          </th> <td>1.36e-44</td>\n",
       "</tr>\n",
       "<tr>\n",
       "  <th>Kurtosis:</th>      <td> 3.691</td>  <th>  Cond. No.          </th> <td>1.54e+17</td>\n",
       "</tr>\n",
       "</table><br/><br/>Warnings:<br/>[1] Standard Errors assume that the covariance matrix of the errors is correctly specified.<br/>[2] The smallest eigenvalue is 5.33e-28. This might indicate that there are<br/>strong multicollinearity problems or that the design matrix is singular."
      ],
      "text/plain": [
       "<class 'statsmodels.iolib.summary.Summary'>\n",
       "\"\"\"\n",
       "                            OLS Regression Results                            \n",
       "==============================================================================\n",
       "Dep. Variable:             Wallet_trx   R-squared:                       0.772\n",
       "Model:                            OLS   Adj. R-squared:                  0.772\n",
       "Method:                 Least Squares   F-statistic:                     4888.\n",
       "Date:                Sun, 01 Sep 2019   Prob (F-statistic):               0.00\n",
       "Time:                        02:00:46   Log-Likelihood:                -39796.\n",
       "No. Observations:               10095   AIC:                         7.961e+04\n",
       "Df Residuals:                   10087   BIC:                         7.967e+04\n",
       "Df Model:                           7                                         \n",
       "Covariance Type:            nonrobust                                         \n",
       "==============================================================================\n",
       "                 coef    std err          t      P>|t|      [0.025      0.975]\n",
       "------------------------------------------------------------------------------\n",
       "Intercept     12.4314      0.082    151.729      0.000      12.271      12.592\n",
       "Qtr1_Bal     -27.8372      0.172   -161.671      0.000     -28.175     -27.500\n",
       "Qtr2_Bal       6.4827      0.073     88.414      0.000       6.339       6.626\n",
       "Qtr3_Bal       0.0131      0.019      0.683      0.495      -0.024       0.051\n",
       "Qtr4_Bal       9.6244      0.052    184.900      0.000       9.522       9.726\n",
       "Female         6.1351      0.131     46.848      0.000       5.878       6.392\n",
       "Male           6.2963      0.131     48.175      0.000       6.040       6.553\n",
       "North          2.8254      0.222     12.752      0.000       2.391       3.260\n",
       "South          3.3238      0.223     14.919      0.000       2.887       3.760\n",
       "East           3.2093      0.292     10.983      0.000       2.636       3.782\n",
       "West           3.0730      0.197     15.627      0.000       2.687       3.458\n",
       "==============================================================================\n",
       "Omnibus:                      116.003   Durbin-Watson:                   1.521\n",
       "Prob(Omnibus):                  0.000   Jarque-Bera (JB):              202.019\n",
       "Skew:                          -0.027   Prob(JB):                     1.36e-44\n",
       "Kurtosis:                       3.691   Cond. No.                     1.54e+17\n",
       "==============================================================================\n",
       "\n",
       "Warnings:\n",
       "[1] Standard Errors assume that the covariance matrix of the errors is correctly specified.\n",
       "[2] The smallest eigenvalue is 5.33e-28. This might indicate that there are\n",
       "strong multicollinearity problems or that the design matrix is singular.\n",
       "\"\"\""
      ]
     },
     "execution_count": 138,
     "metadata": {},
     "output_type": "execute_result"
    }
   ],
   "source": [
    "lm = smf.ols(formula='Wallet_trx ~ Qtr1_Bal + Qtr2_Bal + Qtr3_Bal + Qtr4_Bal + Female + Male + North + South + East + West', data=data).fit()\n",
    "lm.conf_int()\n",
    "lm.summary()"
   ]
  },
  {
   "cell_type": "markdown",
   "metadata": {},
   "source": [
    "What are a few key things we learn from this output?\n",
    "\n",
    "- All variables have significant **p-values**, except Qtr3_Bal. Thus we reject the null hypothesis for all other variables (that there is no association between those features and Wallet_trx), and fail to reject the null hypothesis for Qtr3_Bal.\n",
    "- Qtr1_Bal is **negatively associated** with Wallet_trx, whereas all other variables are **positively associated** with Wallet_trx.\n",
    "- This model has a higher **R-squared** (0.772) than the previous model, which means that this model provides a better fit to the data than a model that only includes Qtr1_Bal."
   ]
  },
  {
   "cell_type": "markdown",
   "metadata": {},
   "source": [
    "# Assumptions of Linear Regression\n",
    "Regression is a parametric approach. ‘Parametric’ means it makes assumptions about data for the purpose of analysis. Due to its parametric side, regression is restrictive in nature. It fails to deliver good results with data sets which doesn’t fulfill its assumptions. Therefore, for a successful regression analysis, it’s essential to validate these assumptions.\n"
   ]
  },
  {
   "cell_type": "markdown",
   "metadata": {},
   "source": [
    "So, how would you check (validate) if a data set follows all regression assumptions? You check it using the regression plots (explained below) along with some statistical test."
   ]
  },
  {
   "cell_type": "markdown",
   "metadata": {},
   "source": [
    "* There should be a linear and additive relationship between dependent (response) variable and independent (predictor) variable(s). A linear relationship suggests that a change in response Y due to one unit change in X¹ is constant, regardless of the value of X¹. An additive relationship suggests that the effect of X¹ on Y is independent of other variables.\n",
    "\n",
    "* There should be no correlation between the residual (error) terms. Absence of this phenomenon is known as Autocorrelation.\n",
    "\n",
    "* The independent variables should not be correlated. Absence of this phenomenon is known as multicollinearity.\n",
    "\n",
    "* The error terms must have constant variance. This phenomenon is known as homoskedasticity. The presence of non-constant variance is referred to heteroskedasticity.\n",
    "\n",
    "* The error terms must be normally distributed."
   ]
  },
  {
   "cell_type": "markdown",
   "metadata": {},
   "source": [
    "**Linear and Additive**:  If you fit a linear model to a non-linear, non-additive data set, the regression algorithm would fail to capture the trend mathematically, thus resulting in an inefficient model. Also, this will result in erroneous predictions on an unseen data set.\n",
    "\n",
    "**How to check**: Look for residual vs fitted value plots.\n",
    " "
   ]
  },
  {
   "cell_type": "code",
   "execution_count": 135,
   "metadata": {},
   "outputs": [
    {
     "data": {
      "image/png": "[encoded data removed]",
      "text/plain": [
       "<Figure size 432x180 with 1 Axes>"
      ]
     },
     "metadata": {},
     "output_type": "display_data"
    }
   ],
   "source": [
    "pred_val = lm.fittedvalues.copy()\n",
    "true_val = data['Wallet_trx'].values.copy()\n",
    "residual = true_val - pred_val\n",
    "fig, ax = plt.subplots(figsize=(6,2.5))\n",
    "_ = ax.scatter(residual, pred_val)"
   ]
  },
  {
   "cell_type": "markdown",
   "metadata": {},
   "source": [
    "**Autocorrelation**: The presence of correlation in error terms drastically reduces model’s accuracy. This usually occurs in time series models where the next instant is dependent on previous instant. If the error terms are correlated, the estimated standard errors tend to underestimate the true standard error.\n",
    "\n",
    "**How to check**: Look for Durbin – Watson (DW) statistic. It must lie between 0 and 4. If DW = 2, implies no autocorrelation, 0 < DW < 2 implies positive autocorrelation while 2 < DW < 4 indicates negative autocorrelation. Also, you can see residual vs time plot and look for the seasonal or correlated pattern in residual values."
   ]
  },
  {
   "cell_type": "markdown",
   "metadata": {},
   "source": [
    "DW = 1.152 implies that Positive Autocorrelation exists."
   ]
  },
  {
   "cell_type": "markdown",
   "metadata": {},
   "source": [
    "**Multicollinearity**: This phenomenon exists when the independent variables are found to be moderately or highly correlated. In a model with correlated variables, it becomes a tough task to figure out the true relationship of a predictors with response variable. In other words, it becomes difficult to find out which variable is actually contributing to predict the response variable.\n",
    "\n",
    "**How to check**: You can use scatter plot to visualize correlation effect among variables. Also, you can also use VIF factor. VIF value <= 4 suggests no multicollinearity whereas a value of >= 10 implies serious multicollinearity. Above all, a correlation table should also solve the purpose."
   ]
  },
  {
   "cell_type": "code",
   "execution_count": 127,
   "metadata": {},
   "outputs": [
    {
     "name": "stdout",
     "output_type": "stream",
     "text": [
      "          Qtr1_Bal  Qtr2_Bal  Qtr3_Bal  Qtr4_Bal    Female      Male  \\\n",
      "Qtr1_Bal  1.000000  1.000000  0.026619  0.940876  0.004854 -0.004854   \n",
      "Qtr2_Bal  1.000000  1.000000  0.026619  0.940876  0.004854 -0.004854   \n",
      "Qtr3_Bal  0.026619  0.026619  1.000000  0.028885 -0.010377  0.010377   \n",
      "Qtr4_Bal  0.940876  0.940876  0.028885  1.000000 -0.002037  0.002037   \n",
      "Female    0.004854  0.004854 -0.010377 -0.002037  1.000000 -1.000000   \n",
      "Male     -0.004854 -0.004854  0.010377  0.002037 -1.000000  1.000000   \n",
      "North    -0.005816 -0.005816 -0.003464 -0.004433 -0.009057  0.009057   \n",
      "South    -0.018943 -0.018943 -0.005602 -0.017841  0.021190 -0.021190   \n",
      "East     -0.007024 -0.007024 -0.009794 -0.005560  0.013203 -0.013203   \n",
      "West      0.026698  0.026698  0.014570  0.023510 -0.019487  0.019487   \n",
      "\n",
      "             North     South      East      West  \n",
      "Qtr1_Bal -0.005816 -0.018943 -0.007024  0.026698  \n",
      "Qtr2_Bal -0.005816 -0.018943 -0.007024  0.026698  \n",
      "Qtr3_Bal -0.003464 -0.005602 -0.009794  0.014570  \n",
      "Qtr4_Bal -0.004433 -0.017841 -0.005560  0.023510  \n",
      "Female   -0.009057  0.021190  0.013203 -0.019487  \n",
      "Male      0.009057 -0.021190 -0.013203  0.019487  \n",
      "North     1.000000 -0.333981 -0.212169 -0.456965  \n",
      "South    -0.333981  1.000000 -0.209554 -0.451332  \n",
      "East     -0.212169 -0.209554  1.000000 -0.286719  \n",
      "West     -0.456965 -0.451332 -0.286719  1.000000  \n"
     ]
    }
   ],
   "source": [
    "print(X.corr())"
   ]
  },
  {
   "cell_type": "markdown",
   "metadata": {},
   "source": [
    "We can see that Qtr1_Bal and Qtr2_Bal are highly correlated. Similarly, Qtr1_Bal and Qtr4_Bal, Qtr2_Bal and Qtr4_Bal are also highly correlated. \n",
    "\n",
    "This can be resolved by using either one from Qtr1_Bal, Qtr2_Bal and Qtr4_Bal variables."
   ]
  },
  {
   "cell_type": "code",
   "execution_count": 134,
   "metadata": {},
   "outputs": [
    {
     "name": "stdout",
     "output_type": "stream",
     "text": [
      "   VIF Factor  features\n",
      "0    1.001503  Qtr1_Bal\n",
      "1    1.001041  Qtr3_Bal\n",
      "2         inf    Female\n",
      "3         inf      Male\n",
      "4         inf     North\n",
      "5         inf     South\n",
      "6         inf      East\n",
      "7         inf      West\n"
     ]
    },
    {
     "name": "stderr",
     "output_type": "stream",
     "text": [
      "C:\\Users\\ab275\\AppData\\Roaming\\Python\\Python36\\site-packages\\statsmodels\\stats\\outliers_influence.py:185: RuntimeWarning: divide by zero encountered in double_scalars\n",
      "  vif = 1. / (1. - r_squared_i)\n"
     ]
    }
   ],
   "source": [
    "from statsmodels.stats.outliers_influence import variance_inflation_factor\n",
    "# For each X, calculate VIF and save in dataframe\n",
    "vif = pd.DataFrame()\n",
    "vif[\"VIF Factor\"] = [variance_inflation_factor(X.values, i) for i in range(X.shape[1])]\n",
    "vif[\"features\"] = X.columns\n",
    "\n",
    "print(vif)\n"
   ]
  },
  {
   "cell_type": "markdown",
   "metadata": {},
   "source": [
    "**Heteroskedasticity**: The presence of non-constant variance in the error terms results in heteroskedasticity. Generally, non-constant variance arises in presence of outliers or extreme leverage values. Look like, these values get too much weight, thereby disproportionately influences the model’s performance. When this phenomenon occurs, the confidence interval for out of sample prediction tends to be unrealistically wide or narrow.\n",
    "\n",
    "**How to check**: You can look at residual vs fitted values plot. If heteroskedasticity exists, the plot would exhibit a funnel shape pattern (shown in next section). Also, you can use Breusch-Pagan / Cook – Weisberg test or White general test to detect this phenomenon."
   ]
  },
  {
   "cell_type": "code",
   "execution_count": 145,
   "metadata": {},
   "outputs": [
    {
     "ename": "AttributeError",
     "evalue": "module 'statsmodels.stats' has no attribute 'diagnostic'",
     "output_type": "error",
     "traceback": [
      "\u001b[1;31m---------------------------------------------------------------------------\u001b[0m",
      "\u001b[1;31mAttributeError\u001b[0m                            Traceback (most recent call last)",
      "\u001b[1;32m<ipython-input-145-5a32d400f25e>\u001b[0m in \u001b[0;36m<module>\u001b[1;34m()\u001b[0m\n\u001b[0;32m      1\u001b[0m \u001b[1;32mimport\u001b[0m \u001b[0mstatsmodels\u001b[0m\u001b[1;33m\u001b[0m\u001b[0m\n\u001b[1;32m----> 2\u001b[1;33m \u001b[0m_\u001b[0m\u001b[1;33m,\u001b[0m \u001b[0mpval\u001b[0m\u001b[1;33m,\u001b[0m \u001b[0m__\u001b[0m\u001b[1;33m,\u001b[0m \u001b[0mf_pval\u001b[0m \u001b[1;33m=\u001b[0m \u001b[0mstatsmodels\u001b[0m\u001b[1;33m.\u001b[0m\u001b[0mstats\u001b[0m\u001b[1;33m.\u001b[0m\u001b[0mdiagnostic\u001b[0m\u001b[1;33m.\u001b[0m\u001b[0mhet_breuschpagan\u001b[0m\u001b[1;33m(\u001b[0m\u001b[0mresidual\u001b[0m\u001b[1;33m,\u001b[0m \u001b[0mdata\u001b[0m\u001b[1;33m[\u001b[0m\u001b[1;33m[\u001b[0m\u001b[1;34m'Qtr1_Bal'\u001b[0m\u001b[1;33m,\u001b[0m \u001b[1;34m'Qtr2_Bal'\u001b[0m\u001b[1;33m,\u001b[0m \u001b[1;34m'Qtr3_Bal'\u001b[0m\u001b[1;33m,\u001b[0m\u001b[1;34m'Qtr4_Bal'\u001b[0m\u001b[1;33m,\u001b[0m\u001b[1;34m'Female'\u001b[0m\u001b[1;33m,\u001b[0m \u001b[1;34m'Male'\u001b[0m\u001b[1;33m,\u001b[0m \u001b[1;34m'North'\u001b[0m\u001b[1;33m,\u001b[0m\u001b[1;34m'South'\u001b[0m\u001b[1;33m,\u001b[0m\u001b[1;34m'East'\u001b[0m\u001b[1;33m,\u001b[0m\u001b[1;34m'West'\u001b[0m\u001b[1;33m]\u001b[0m\u001b[1;33m]\u001b[0m\u001b[1;33m)\u001b[0m\u001b[1;33m\u001b[0m\u001b[0m\n\u001b[0m\u001b[0;32m      3\u001b[0m \u001b[0mpval\u001b[0m\u001b[1;33m,\u001b[0m \u001b[0mf_pval\u001b[0m\u001b[1;33m\u001b[0m\u001b[0m\n",
      "\u001b[1;31mAttributeError\u001b[0m: module 'statsmodels.stats' has no attribute 'diagnostic'"
     ]
    }
   ],
   "source": [
    "import statsmodels\n",
    "_, pval, __, f_pval = statsmodels.stats.diagnostic.het_breuschpagan(residual, data[['Qtr1_Bal', 'Qtr2_Bal', 'Qtr3_Bal','Qtr4_Bal','Female', 'Male', 'North','South','East','West']])\n",
    "pval, f_pval"
   ]
  },
  {
   "cell_type": "markdown",
   "metadata": {},
   "source": [
    "**Normal Distribution of error terms**: If the error terms are non- normally distributed, confidence intervals may become too wide or narrow. Once confidence interval becomes unstable, it leads to difficulty in estimating coefficients based on minimization of least squares. Presence of non – normal distribution suggests that there are a few unusual data points which must be studied closely to make a better model.\n",
    "\n",
    "**How to check**: You can look at QQ plot (shown below). You can also perform statistical tests of normality such as Kolmogorov-Smirnov test, Shapiro-Wilk test."
   ]
  },
  {
   "cell_type": "code",
   "execution_count": 130,
   "metadata": {},
   "outputs": [
    {
     "data": {
      "text/plain": [
       "Text(0.5,1,'Model Residuals Probability Plot')"
      ]
     },
     "execution_count": 130,
     "metadata": {},
     "output_type": "execute_result"
    },
    {
     "data": {
      "image/png": "[encoded data removed]",
      "text/plain": [
       "<Figure size 432x288 with 1 Axes>"
      ]
     },
     "metadata": {},
     "output_type": "display_data"
    }
   ],
   "source": [
    "from scipy import stats\n",
    "stats.probplot(lm.resid, plot= plt)\n",
    "plt.title(\"Model Residuals Probability Plot\")"
   ]
  },
  {
   "cell_type": "markdown",
   "metadata": {},
   "source": [
    "This Model Residuals probability plot is a scatter plot which helps us validate the assumption of normal distribution in a data set. Using this plot we can infer if the data comes from a normal distribution. If yes, the plot would show fairly straight line. Absence of normality in the errors can be seen with deviation in the straight line."
   ]
  },
  {
   "cell_type": "markdown",
   "metadata": {},
   "source": [
    "Since, here the plot is a fairly straight line, thus normality is absent."
   ]
  }
 ],
 "metadata": {
  "kernelspec": {
   "display_name": "Python 3",
   "language": "python",
   "name": "python3"
  },
  "language_info": {
   "codemirror_mode": {
    "name": "ipython",
    "version": 3
   },
   "file_extension": ".py",
   "mimetype": "text/x-python",
   "name": "python",
   "nbconvert_exporter": "python",
   "pygments_lexer": "ipython3",
   "version": "3.6.1"
  }
 },
 "nbformat": 4,
 "nbformat_minor": 2
}
